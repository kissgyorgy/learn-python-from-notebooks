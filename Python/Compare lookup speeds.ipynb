{
 "cells": [
  {
   "cell_type": "markdown",
   "metadata": {},
   "source": [
    "# Different function calls"
   ]
  },
  {
   "cell_type": "code",
   "execution_count": 1,
   "metadata": {
    "collapsed": false
   },
   "outputs": [],
   "source": [
    "def normalize_room(value):\n",
    "    value = value.lower()\n",
    "    if value in {'stars', 'pokerstars', 'ps'}:\n",
    "        return 'STARS'\n",
    "    elif value in {'ftp', 'full tilt', 'fulltilt'}:\n",
    "        return 'FTP'\n",
    "    elif value in {'pkr', 'pkr poker'}:\n",
    "        return 'PKR'\n",
    "    return value.upper()\n",
    "\n",
    "def normalize_game_type(value):\n",
    "    value = value.lower()\n",
    "    if value in {'tournament', 'tour'}:\n",
    "        return 'TOUR'\n",
    "    elif value in {'ring', 'cash game', 'cash'}:\n",
    "        return 'CASH'\n",
    "    return value.upper()\n",
    "\n",
    "\n",
    "def normalize_game(value):\n",
    "    value = value.lower()\n",
    "    if value in {\"hold'em\", 'holdem'}:\n",
    "        return 'HOLDEM'\n",
    "    elif value in {'omaha'}:\n",
    "        return 'OMAHA'\n",
    "    return value.upper()\n",
    "\n",
    "def normalize_limit(value):\n",
    "    value = value.lower()\n",
    "    if value in {'no limit', 'nl'}:\n",
    "        return 'NL'\n",
    "    elif value in {'pot limit', 'pl'}:\n",
    "        return 'PL'\n",
    "    elif value in {'fix limit', 'fl'}:\n",
    "        return 'FL'\n",
    "    return value.upper()\n",
    "\n",
    "def normalize_money_type(value):\n",
    "    value = value.lower()\n",
    "    if value in {'real money'}:\n",
    "        return 'R'\n",
    "    elif value in {'play money'}:\n",
    "        return 'P'\n",
    "    return value.upper()"
   ]
  },
  {
   "cell_type": "code",
   "execution_count": 2,
   "metadata": {
    "collapsed": false
   },
   "outputs": [
    {
     "name": "stdout",
     "output_type": "stream",
     "text": [
      "The slowest run took 8.24 times longer than the fastest. This could mean that an intermediate result is being cached \n",
      "1000000 loops, best of 3: 723 ns per loop\n"
     ]
    }
   ],
   "source": [
    "%timeit normalize_limit('no limit')"
   ]
  },
  {
   "cell_type": "code",
   "execution_count": 3,
   "metadata": {
    "collapsed": false
   },
   "outputs": [
    {
     "name": "stdout",
     "output_type": "stream",
     "text": [
      "The slowest run took 4.83 times longer than the fastest. This could mean that an intermediate result is being cached \n",
      "1000000 loops, best of 3: 1.68 µs per loop\n"
     ]
    }
   ],
   "source": [
    "%timeit normalize_room('full tilt poker')"
   ]
  },
  {
   "cell_type": "code",
   "execution_count": 4,
   "metadata": {
    "collapsed": false
   },
   "outputs": [
    {
     "name": "stdout",
     "output_type": "stream",
     "text": [
      "The slowest run took 8.94 times longer than the fastest. This could mean that an intermediate result is being cached \n",
      "1000000 loops, best of 3: 800 ns per loop\n"
     ]
    }
   ],
   "source": [
    "%timeit normalize_money_type('play money')"
   ]
  },
  {
   "cell_type": "code",
   "execution_count": 5,
   "metadata": {
    "collapsed": false
   },
   "outputs": [
    {
     "name": "stdout",
     "output_type": "stream",
     "text": [
      "The slowest run took 7.17 times longer than the fastest. This could mean that an intermediate result is being cached \n",
      "1000000 loops, best of 3: 698 ns per loop\n"
     ]
    }
   ],
   "source": [
    "%timeit normalize_game('holdem')"
   ]
  },
  {
   "cell_type": "markdown",
   "metadata": {},
   "source": [
    "# tuples inside dict"
   ]
  },
  {
   "cell_type": "code",
   "execution_count": 6,
   "metadata": {
    "collapsed": false
   },
   "outputs": [],
   "source": [
    "_POKER_ROOMS2 = {('stars', 'pokerstars', 'ps'): 'STARS',\n",
    "                ('ftp', 'full tilt', 'fulltilt'): 'FTP',\n",
    "                ('pkr', 'pkr poker'): 'PKR'}\n",
    "_TYPES2 = {('tournament', 'tour'): 'TOUR',\n",
    "          ('ring', 'cash game', 'cash'): 'CASH'}\n",
    "_GAMES2 = {(\"hold'em\", 'holdem'): 'HOLDEM',\n",
    "          ('omaha',): 'OMAHA'}\n",
    "_LIMITS2 = {('no limit', 'nl'): 'NL',\n",
    "           ('pot limit', 'pl'): 'PL',\n",
    "           ('fix limit', 'fl'): 'FL'}\n",
    "_MONEY_TYPES2 = {('real money',): 'R',\n",
    "                ('play money',): 'P'}\n",
    "\n",
    "\n",
    "def normalize2(value):\n",
    "    val = value.lower()\n",
    "    for dataset in (_POKER_ROOMS2, _TYPES2, _GAMES2, _LIMITS2, _MONEY_TYPES2):\n",
    "        for compare, normalized in dataset.iteritems():\n",
    "            if val in compare:\n",
    "                return normalized\n",
    "    return value.upper()"
   ]
  },
  {
   "cell_type": "code",
   "execution_count": 7,
   "metadata": {
    "collapsed": false
   },
   "outputs": [
    {
     "name": "stdout",
     "output_type": "stream",
     "text": [
      "100000 loops, best of 3: 2.58 µs per loop\n"
     ]
    }
   ],
   "source": [
    "%timeit normalize2('no limit')"
   ]
  },
  {
   "cell_type": "code",
   "execution_count": 8,
   "metadata": {
    "collapsed": false
   },
   "outputs": [
    {
     "name": "stdout",
     "output_type": "stream",
     "text": [
      "100000 loops, best of 3: 3.89 µs per loop\n"
     ]
    }
   ],
   "source": [
    "%timeit normalize2('full tilt poker')"
   ]
  },
  {
   "cell_type": "code",
   "execution_count": 9,
   "metadata": {
    "collapsed": false
   },
   "outputs": [
    {
     "name": "stdout",
     "output_type": "stream",
     "text": [
      "100000 loops, best of 3: 3.44 µs per loop\n"
     ]
    }
   ],
   "source": [
    "%timeit normalize2('play money')"
   ]
  },
  {
   "cell_type": "code",
   "execution_count": 10,
   "metadata": {
    "collapsed": false
   },
   "outputs": [
    {
     "name": "stdout",
     "output_type": "stream",
     "text": [
      "The slowest run took 4.10 times longer than the fastest. This could mean that an intermediate result is being cached \n",
      "100000 loops, best of 3: 2.21 µs per loop\n"
     ]
    }
   ],
   "source": [
    "%timeit normalize2('holdem')"
   ]
  },
  {
   "cell_type": "markdown",
   "metadata": {},
   "source": [
    "# sets inside dict"
   ]
  },
  {
   "cell_type": "code",
   "execution_count": 11,
   "metadata": {
    "collapsed": false
   },
   "outputs": [],
   "source": [
    "_POKER_ROOMS3 = {'STARS': {'stars', 'pokerstars', 'ps'},\n",
    "                'FTP': {'ftp', 'full tilt', 'fulltilt'},\n",
    "                'PKR': {'pkr', 'pkr poker'}}\n",
    "_TYPES3 = {'TOUR': {'tournament', 'tour'},\n",
    "          'CASH': {'ring', 'cash game', 'cash'}}\n",
    "_GAMES3 = {'HOLDEM': {\"hold'em\", 'holdem'},\n",
    "          'OMAHA': {'omaha'}}\n",
    "_LIMITS3 = {'NL': {'no limit', 'nl'},\n",
    "           'PL': {'pot limit', 'pl'},\n",
    "           'FL': {'fix limit', 'fl'}}\n",
    "_MONEY_TYPES3 = {'R': {'real money'},\n",
    "                'P': {'play money'}}\n",
    "\n",
    "\n",
    "def normalize3(value):\n",
    "    val = value.lower()\n",
    "    for dataset in (_POKER_ROOMS3, _TYPES3, _GAMES3, _LIMITS3, _MONEY_TYPES3):\n",
    "        for normalized, compare in dataset.iteritems():\n",
    "            if val in compare:\n",
    "                return normalized\n",
    "    return value.upper()"
   ]
  },
  {
   "cell_type": "code",
   "execution_count": 12,
   "metadata": {
    "collapsed": false
   },
   "outputs": [
    {
     "name": "stdout",
     "output_type": "stream",
     "text": [
      "100000 loops, best of 3: 3.05 µs per loop\n"
     ]
    }
   ],
   "source": [
    "%timeit normalize3('no limit')"
   ]
  },
  {
   "cell_type": "code",
   "execution_count": 13,
   "metadata": {
    "collapsed": false
   },
   "outputs": [
    {
     "name": "stdout",
     "output_type": "stream",
     "text": [
      "100000 loops, best of 3: 3.71 µs per loop\n"
     ]
    }
   ],
   "source": [
    "%timeit normalize3('full tilt poker')"
   ]
  },
  {
   "cell_type": "code",
   "execution_count": 14,
   "metadata": {
    "collapsed": false
   },
   "outputs": [
    {
     "name": "stdout",
     "output_type": "stream",
     "text": [
      "100000 loops, best of 3: 3.09 µs per loop\n"
     ]
    }
   ],
   "source": [
    "%timeit normalize3('play money')"
   ]
  },
  {
   "cell_type": "code",
   "execution_count": 15,
   "metadata": {
    "collapsed": false
   },
   "outputs": [
    {
     "name": "stdout",
     "output_type": "stream",
     "text": [
      "The slowest run took 4.42 times longer than the fastest. This could mean that an intermediate result is being cached \n",
      "100000 loops, best of 3: 2.05 µs per loop\n"
     ]
    }
   ],
   "source": [
    "%timeit normalize3('holdem')"
   ]
  },
  {
   "cell_type": "markdown",
   "metadata": {},
   "source": [
    "# One big dictionary with nested sets"
   ]
  },
  {
   "cell_type": "code",
   "execution_count": 21,
   "metadata": {
    "collapsed": false
   },
   "outputs": [],
   "source": [
    "_NORMALIZE4 = {'STARS': {'stars', 'pokerstars', 'ps'},\n",
    "              'FTP': {'ftp', 'full tilt', 'fulltilt'},\n",
    "              'PKR': {'pkr', 'pkr poker'},\n",
    "              'TOUR': {'tournament', 'tour'},\n",
    "              'CASH': {'ring', 'cash game', 'cash'},\n",
    "              'HOLDEM': {\"hold'em\", 'holdem'},\n",
    "              'OMAHA': {'omaha'},\n",
    "              'NL': {'no limit', 'nl'},\n",
    "              'PL': {'pot limit', 'pl'},\n",
    "              'FL': {'fix limit', 'fl'},\n",
    "              'R': {'real money'},\n",
    "              'P': {'play money'}}\n",
    "\n",
    "\n",
    "def normalize4(value):\n",
    "    \"\"\"Normalize common words which can be in multiple form, but all means the same.\"\"\"\n",
    "    value = value.lower()\n",
    "    for normalized, compare in _NORMALIZE4.iteritems():\n",
    "        if value in compare:\n",
    "            return normalized\n",
    "    return value.upper()"
   ]
  },
  {
   "cell_type": "code",
   "execution_count": 22,
   "metadata": {
    "collapsed": false
   },
   "outputs": [
    {
     "name": "stdout",
     "output_type": "stream",
     "text": [
      "The slowest run took 5.07 times longer than the fastest. This could mean that an intermediate result is being cached \n",
      "1000000 loops, best of 3: 1.55 µs per loop\n"
     ]
    }
   ],
   "source": [
    "%timeit normalize4('no limit')"
   ]
  },
  {
   "cell_type": "code",
   "execution_count": 23,
   "metadata": {
    "collapsed": false
   },
   "outputs": [
    {
     "name": "stdout",
     "output_type": "stream",
     "text": [
      "The slowest run took 4.47 times longer than the fastest. This could mean that an intermediate result is being cached \n",
      "100000 loops, best of 3: 2.46 µs per loop\n"
     ]
    }
   ],
   "source": [
    "%timeit normalize4('full tilt poker')"
   ]
  },
  {
   "cell_type": "code",
   "execution_count": 24,
   "metadata": {
    "collapsed": false
   },
   "outputs": [
    {
     "name": "stdout",
     "output_type": "stream",
     "text": [
      "The slowest run took 7.02 times longer than the fastest. This could mean that an intermediate result is being cached \n",
      "1000000 loops, best of 3: 1.12 µs per loop\n"
     ]
    }
   ],
   "source": [
    "%timeit normalize4('play money')"
   ]
  },
  {
   "cell_type": "code",
   "execution_count": 25,
   "metadata": {
    "collapsed": false
   },
   "outputs": [
    {
     "name": "stdout",
     "output_type": "stream",
     "text": [
      "The slowest run took 6.60 times longer than the fastest. This could mean that an intermediate result is being cached \n",
      "1000000 loops, best of 3: 903 ns per loop\n"
     ]
    }
   ],
   "source": [
    "%timeit normalize4('holdem')"
   ]
  },
  {
   "cell_type": "markdown",
   "metadata": {},
   "source": [
    "# With frozenset"
   ]
  },
  {
   "cell_type": "code",
   "execution_count": 26,
   "metadata": {
    "collapsed": false
   },
   "outputs": [],
   "source": [
    "_NORMALIZE5 = {'STARS': frozenset({'stars', 'pokerstars', 'ps'}),\n",
    "              'FTP': frozenset({'ftp', 'full tilt', 'fulltilt'}),\n",
    "              'PKR': frozenset({'pkr', 'pkr poker'}),\n",
    "              'TOUR': frozenset({'tournament', 'tour'}),\n",
    "              'CASH': frozenset({'ring', 'cash game', 'cash'}),\n",
    "              'HOLDEM': frozenset({\"hold'em\", 'holdem'}),\n",
    "              'OMAHA': frozenset({'omaha'}),\n",
    "              'NL': frozenset({'no limit', 'nl'}),\n",
    "              'PL': frozenset({'pot limit', 'pl'}),\n",
    "              'FL': frozenset({'fix limit', 'fl'}),\n",
    "              'R': frozenset({'real money'}),\n",
    "              'P': frozenset({'play money'})}\n",
    "\n",
    "\n",
    "def normalize5(value):\n",
    "    \"\"\"Normalize common words which can be in multiple form, but all means the same.\"\"\"\n",
    "    value = value.lower()\n",
    "    for normalized, compare in _NORMALIZE5.iteritems():\n",
    "        if value in compare:\n",
    "            return normalized\n",
    "    return value.upper()"
   ]
  },
  {
   "cell_type": "code",
   "execution_count": 27,
   "metadata": {
    "collapsed": false
   },
   "outputs": [
    {
     "name": "stdout",
     "output_type": "stream",
     "text": [
      "The slowest run took 5.06 times longer than the fastest. This could mean that an intermediate result is being cached \n",
      "1000000 loops, best of 3: 1.56 µs per loop\n"
     ]
    }
   ],
   "source": [
    "%timeit normalize5('no limit')"
   ]
  },
  {
   "cell_type": "code",
   "execution_count": 28,
   "metadata": {
    "collapsed": false
   },
   "outputs": [
    {
     "name": "stdout",
     "output_type": "stream",
     "text": [
      "The slowest run took 4.49 times longer than the fastest. This could mean that an intermediate result is being cached \n",
      "100000 loops, best of 3: 2.44 µs per loop\n"
     ]
    }
   ],
   "source": [
    "%timeit normalize5('full tilt poker')"
   ]
  },
  {
   "cell_type": "code",
   "execution_count": 29,
   "metadata": {
    "collapsed": false
   },
   "outputs": [
    {
     "name": "stdout",
     "output_type": "stream",
     "text": [
      "The slowest run took 6.13 times longer than the fastest. This could mean that an intermediate result is being cached \n",
      "1000000 loops, best of 3: 1.13 µs per loop\n"
     ]
    }
   ],
   "source": [
    "%timeit normalize5('play money')"
   ]
  },
  {
   "cell_type": "code",
   "execution_count": 30,
   "metadata": {
    "collapsed": false
   },
   "outputs": [
    {
     "name": "stdout",
     "output_type": "stream",
     "text": [
      "The slowest run took 8.65 times longer than the fastest. This could mean that an intermediate result is being cached \n",
      "1000000 loops, best of 3: 909 ns per loop\n"
     ]
    }
   ],
   "source": [
    "%timeit normalize5('holdem')"
   ]
  },
  {
   "cell_type": "markdown",
   "metadata": {},
   "source": [
    "# Generator next()"
   ]
  },
  {
   "cell_type": "code",
   "execution_count": 31,
   "metadata": {
    "collapsed": false
   },
   "outputs": [],
   "source": [
    "_NORMALIZE6 = {'STARS': {'stars', 'pokerstars', 'ps'},\n",
    "              'FTP': {'ftp', 'full tilt', 'fulltilt'},\n",
    "              'PKR': {'pkr', 'pkr poker'},\n",
    "              'TOUR': {'tournament', 'tour'},\n",
    "              'CASH': {'ring', 'cash game', 'cash'},\n",
    "              'HOLDEM': {\"hold'em\", 'holdem'},\n",
    "              'OMAHA': {'omaha'},\n",
    "              'NL': {'no limit', 'nl'},\n",
    "              'PL': {'pot limit', 'pl'},\n",
    "              'FL': {'fix limit', 'fl'},\n",
    "              'R': {'real money'},\n",
    "              'P': {'play money'}}\n",
    "\n",
    "\n",
    "def normalize6(value):\n",
    "    \"\"\"Normalize common words which can be in multiple form, but all means the same.\"\"\"\n",
    "    value = value.lower()\n",
    "    try:\n",
    "        return next(normalized for normalized, compare in _NORMALIZE6.iteritems() if value in compare)\n",
    "    except StopIteration:    \n",
    "        return value.upper()"
   ]
  },
  {
   "cell_type": "code",
   "execution_count": 32,
   "metadata": {
    "collapsed": false
   },
   "outputs": [
    {
     "name": "stdout",
     "output_type": "stream",
     "text": [
      "The slowest run took 4.82 times longer than the fastest. This could mean that an intermediate result is being cached \n",
      "100000 loops, best of 3: 2.92 µs per loop\n"
     ]
    }
   ],
   "source": [
    "%timeit normalize6('no limit')"
   ]
  },
  {
   "cell_type": "code",
   "execution_count": 33,
   "metadata": {
    "collapsed": false
   },
   "outputs": [
    {
     "name": "stdout",
     "output_type": "stream",
     "text": [
      "100000 loops, best of 3: 5.46 µs per loop\n"
     ]
    }
   ],
   "source": [
    "%timeit normalize6('full tilt poker')"
   ]
  },
  {
   "cell_type": "code",
   "execution_count": 34,
   "metadata": {
    "collapsed": false
   },
   "outputs": [
    {
     "name": "stdout",
     "output_type": "stream",
     "text": [
      "The slowest run took 4.51 times longer than the fastest. This could mean that an intermediate result is being cached \n",
      "100000 loops, best of 3: 2.43 µs per loop\n"
     ]
    }
   ],
   "source": [
    "%timeit normalize6('play money')"
   ]
  },
  {
   "cell_type": "code",
   "execution_count": 35,
   "metadata": {
    "collapsed": false
   },
   "outputs": [
    {
     "name": "stdout",
     "output_type": "stream",
     "text": [
      "The slowest run took 5.28 times longer than the fastest. This could mean that an intermediate result is being cached \n",
      "100000 loops, best of 3: 2.08 µs per loop\n"
     ]
    }
   ],
   "source": [
    "%timeit normalize6('holdem')"
   ]
  },
  {
   "cell_type": "markdown",
   "metadata": {},
   "source": [
    "# One dictionary for all data"
   ]
  },
  {
   "cell_type": "code",
   "execution_count": 36,
   "metadata": {
    "collapsed": false
   },
   "outputs": [],
   "source": [
    "STARS = 'STARS'\n",
    "FTP = 'FTP'\n",
    "PKR = 'PKR'\n",
    "USD = 'USD'\n",
    "EUR = 'EUR'\n",
    "GBP = 'GBP'\n",
    "TOUR = 'TOUR'\n",
    "CASH = 'CASH'\n",
    "HOLDEM = 'HOLDEM'\n",
    "OMAHA = 'OMAHA'\n",
    "NL = 'NL'\n",
    "PL = 'PL'\n",
    "FL = 'FL'\n",
    "REAL = 'REAL'\n",
    "PLAY = 'PLAY'\n",
    "_NORMALIZE7 = {\n",
    "    'pokerstars': STARS, 'stars': STARS, 'ps': STARS,\n",
    "    'full tilt poker': FTP, 'full tilt': FTP, 'ftp': FTP,\n",
    "    'pkr': PKR, 'pkr poker': PKR,\n",
    "    'usd': USD, '$': USD, 'EUR': EUR, '€': EUR, 'GBP': GBP,\n",
    "    'tour': TOUR, 'tournament': TOUR,\n",
    "    'cash': CASH, 'cash game': CASH, 'ring': CASH,\n",
    "    \"hold'em\": HOLDEM, 'holdem': HOLDEM,\n",
    "    'omaha': OMAHA,\n",
    "    'nl': NL, 'no limit': NL,\n",
    "    'pl': PL, 'pot limit': PL,\n",
    "    'fl': FL, 'fix limit': FL,\n",
    "    'real money': REAL,\n",
    "    'play money': PLAY\n",
    "}\n",
    "\n",
    "def normalize7(value):\n",
    "    value = value.lower()\n",
    "    return _NORMALIZE7[value]"
   ]
  },
  {
   "cell_type": "code",
   "execution_count": 37,
   "metadata": {
    "collapsed": false
   },
   "outputs": [
    {
     "name": "stdout",
     "output_type": "stream",
     "text": [
      "The slowest run took 6.82 times longer than the fastest. This could mean that an intermediate result is being cached \n",
      "1000000 loops, best of 3: 559 ns per loop\n"
     ]
    }
   ],
   "source": [
    "%timeit normalize7('no limit')"
   ]
  },
  {
   "cell_type": "code",
   "execution_count": 38,
   "metadata": {
    "collapsed": false
   },
   "outputs": [
    {
     "name": "stdout",
     "output_type": "stream",
     "text": [
      "The slowest run took 4.46 times longer than the fastest. This could mean that an intermediate result is being cached \n",
      "1000000 loops, best of 3: 695 ns per loop\n"
     ]
    }
   ],
   "source": [
    "%timeit normalize7('full tilt poker')"
   ]
  },
  {
   "cell_type": "code",
   "execution_count": 39,
   "metadata": {
    "collapsed": false
   },
   "outputs": [
    {
     "name": "stdout",
     "output_type": "stream",
     "text": [
      "The slowest run took 6.90 times longer than the fastest. This could mean that an intermediate result is being cached \n",
      "1000000 loops, best of 3: 587 ns per loop\n"
     ]
    }
   ],
   "source": [
    "%timeit normalize7('play money')"
   ]
  },
  {
   "cell_type": "code",
   "execution_count": 40,
   "metadata": {
    "collapsed": false
   },
   "outputs": [
    {
     "name": "stdout",
     "output_type": "stream",
     "text": [
      "The slowest run took 8.09 times longer than the fastest. This could mean that an intermediate result is being cached \n",
      "1000000 loops, best of 3: 501 ns per loop\n"
     ]
    }
   ],
   "source": [
    "%timeit normalize7('holdem')"
   ]
  },
  {
   "cell_type": "markdown",
   "metadata": {},
   "source": [
    "# One dictionary without external variables"
   ]
  },
  {
   "cell_type": "code",
   "execution_count": 41,
   "metadata": {
    "collapsed": false
   },
   "outputs": [],
   "source": [
    "_NORMALIZE8 = {\n",
    "    'pokerstars': 'STARS', 'stars': 'STARS', 'ps': 'STARS',\n",
    "    'full tilt poker': 'FTP', 'full tilt': 'FTP', 'ftp': 'FTP',\n",
    "    'pkr': 'PKR', 'pkr poker': 'PKR',\n",
    "    'usd': 'USD', '$': 'USD', 'EUR': 'EUR', u'€': 'EUR', 'GBP': 'GBP',\n",
    "    'tour': 'TOUR', 'tournament': 'TOUR',\n",
    "    'cash': 'CASH', 'cash game': 'CASH', 'ring': 'CASH',\n",
    "    \"hold'em\": 'HOLDEM', 'holdem': 'HOLDEM',\n",
    "    'omaha': 'OMAHA',\n",
    "    'nl': 'NL', 'no limit': 'NL',\n",
    "    'pl': 'PL', 'pot limit': 'PL',\n",
    "    'fl': 'FL', 'fix limit': 'FL',\n",
    "    'real money': 'REAL',\n",
    "    'play money': 'PLAY'\n",
    "}\n",
    "\n",
    "def normalize8(value):\n",
    "    value = value.lower()\n",
    "    return _NORMALIZE8[value]"
   ]
  },
  {
   "cell_type": "code",
   "execution_count": 42,
   "metadata": {
    "collapsed": false
   },
   "outputs": [
    {
     "name": "stdout",
     "output_type": "stream",
     "text": [
      "The slowest run took 6.78 times longer than the fastest. This could mean that an intermediate result is being cached \n",
      "1000000 loops, best of 3: 598 ns per loop\n"
     ]
    }
   ],
   "source": [
    "%timeit normalize8('no limit')"
   ]
  },
  {
   "cell_type": "code",
   "execution_count": 43,
   "metadata": {
    "collapsed": false
   },
   "outputs": [
    {
     "name": "stdout",
     "output_type": "stream",
     "text": [
      "The slowest run took 7.19 times longer than the fastest. This could mean that an intermediate result is being cached \n",
      "1000000 loops, best of 3: 697 ns per loop\n"
     ]
    }
   ],
   "source": [
    "%timeit normalize8('full tilt poker')"
   ]
  },
  {
   "cell_type": "code",
   "execution_count": 44,
   "metadata": {
    "collapsed": false
   },
   "outputs": [
    {
     "name": "stdout",
     "output_type": "stream",
     "text": [
      "The slowest run took 6.61 times longer than the fastest. This could mean that an intermediate result is being cached \n",
      "1000000 loops, best of 3: 613 ns per loop\n"
     ]
    }
   ],
   "source": [
    "%timeit normalize8('play money')"
   ]
  },
  {
   "cell_type": "code",
   "execution_count": 45,
   "metadata": {
    "collapsed": false
   },
   "outputs": [
    {
     "name": "stdout",
     "output_type": "stream",
     "text": [
      "The slowest run took 7.13 times longer than the fastest. This could mean that an intermediate result is being cached \n",
      "1000000 loops, best of 3: 535 ns per loop\n"
     ]
    }
   ],
   "source": [
    "%timeit normalize8('holdem')"
   ]
  },
  {
   "cell_type": "markdown",
   "metadata": {},
   "source": [
    "# Local variable"
   ]
  },
  {
   "cell_type": "code",
   "execution_count": 46,
   "metadata": {
    "collapsed": false
   },
   "outputs": [],
   "source": [
    "_NORMALIZE9 = {'STARS': {'stars', 'pokerstars', 'ps'},\n",
    "              'FTP': {'ftp', 'full tilt', 'fulltilt'},\n",
    "              'PKR': {'pkr', 'pkr poker'},\n",
    "              'TOUR': {'tournament', 'tour'},\n",
    "              'CASH': {'ring', 'cash game', 'cash'},\n",
    "              'HOLDEM': {\"hold'em\", 'holdem'},\n",
    "              'OMAHA': {'omaha'},\n",
    "              'NL': {'no limit', 'nl'},\n",
    "              'PL': {'pot limit', 'pl'},\n",
    "              'FL': {'fix limit', 'fl'},\n",
    "              'R': {'real money'},\n",
    "              'P': {'play money'}}\n",
    "def normalize9(value):\n",
    "    \"\"\"Normalize common words which can be in multiple form, but all means the same.\"\"\"\n",
    "    _norm = _NORMALIZE9\n",
    "    value = value.lower()\n",
    "    for normalized, compare in _norm.iteritems():\n",
    "        if value in compare:\n",
    "            return normalized\n",
    "    return value.upper()"
   ]
  },
  {
   "cell_type": "code",
   "execution_count": 47,
   "metadata": {
    "collapsed": false
   },
   "outputs": [
    {
     "name": "stdout",
     "output_type": "stream",
     "text": [
      "The slowest run took 10.60 times longer than the fastest. This could mean that an intermediate result is being cached \n",
      "1000000 loops, best of 3: 1.6 µs per loop\n"
     ]
    }
   ],
   "source": [
    "%timeit normalize9('no limit')"
   ]
  },
  {
   "cell_type": "code",
   "execution_count": 48,
   "metadata": {
    "collapsed": false
   },
   "outputs": [
    {
     "name": "stdout",
     "output_type": "stream",
     "text": [
      "100000 loops, best of 3: 2.44 µs per loop\n"
     ]
    }
   ],
   "source": [
    "%timeit normalize9('full tilt poker')"
   ]
  },
  {
   "cell_type": "code",
   "execution_count": 49,
   "metadata": {
    "collapsed": false
   },
   "outputs": [
    {
     "name": "stdout",
     "output_type": "stream",
     "text": [
      "The slowest run took 6.77 times longer than the fastest. This could mean that an intermediate result is being cached \n",
      "1000000 loops, best of 3: 1.16 µs per loop\n"
     ]
    }
   ],
   "source": [
    "%timeit normalize9('play money')"
   ]
  },
  {
   "cell_type": "code",
   "execution_count": 50,
   "metadata": {
    "collapsed": false
   },
   "outputs": [
    {
     "name": "stdout",
     "output_type": "stream",
     "text": [
      "The slowest run took 8.22 times longer than the fastest. This could mean that an intermediate result is being cached \n",
      "1000000 loops, best of 3: 957 ns per loop\n"
     ]
    }
   ],
   "source": [
    "%timeit normalize9('holdem')"
   ]
  },
  {
   "cell_type": "code",
   "execution_count": null,
   "metadata": {
    "collapsed": false
   },
   "outputs": [],
   "source": []
  }
 ],
 "metadata": {
  "kernelspec": {
   "display_name": "Python 2",
   "language": "python",
   "name": "python2"
  },
  "language_info": {
   "codemirror_mode": {
    "name": "ipython",
    "version": 2
   },
   "file_extension": ".py",
   "mimetype": "text/x-python",
   "name": "python",
   "nbconvert_exporter": "python",
   "pygments_lexer": "ipython2",
   "version": "2.7.10"
  }
 },
 "nbformat": 4,
 "nbformat_minor": 0
}
