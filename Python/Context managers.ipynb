{
 "metadata": {
  "name": "Python - Context managers"
 },
 "nbformat": 3,
 "nbformat_minor": 0,
 "worksheets": [
  {
   "cells": [
    {
     "cell_type": "markdown",
     "metadata": {},
     "source": [
      "# About context managers:\n",
      "[Built in types in Python doc](http://docs.python.org/2/library/stdtypes.html#context-manager-types)  \n",
      "[The with statement](http://docs.python.org/2/reference/compound_stmts.html#with)  \n",
      "[With Statement Context Managers](http://docs.python.org/2/reference/datamodel.html#with-statement-context-managers)  \n",
      "[Contextlib (decorators and such)](http://docs.python.org/2/library/contextlib.html)  \n",
      "[PEP343 about the \"with\" statement](http://www.python.org/dev/peps/pep-0343/)  "
     ]
    },
    {
     "cell_type": "heading",
     "level": 1,
     "metadata": {},
     "source": [
      "Make StringIO implement the context manager protocol"
     ]
    },
    {
     "cell_type": "markdown",
     "metadata": {},
     "source": [
      "## method 1\n",
      "http://stackoverflow.com/a/17090242/720077"
     ]
    },
    {
     "cell_type": "code",
     "collapsed": false,
     "input": [
      "from StringIO import StringIO\n",
      "\n",
      "class ContextStringIO(StringIO):\n",
      "    def __enter__(self):\n",
      "        return self\n",
      "\n",
      "    def __exit__(self, *args):\n",
      "        self.close()  # frees the memory, when getting out of context\n",
      "        return False  # Indicate that we haven't handled the exception, if received. With this, Exceptions occured will be reraised."
     ],
     "language": "python",
     "metadata": {},
     "outputs": []
    },
    {
     "cell_type": "markdown",
     "metadata": {},
     "source": [
      "## method2 (DEPRECATED)\n",
      "http://stackoverflow.com/a/17090294/720077"
     ]
    },
    {
     "cell_type": "code",
     "collapsed": false,
     "input": [
      "from contextlib import contextmanager\n",
      "\n",
      "@contextmanager\n",
      "def StringIO(data):\n",
      "    \"\"\"Add support for 'with' statement to StringIO - http://bugs.python.org/issue1286\n",
      "    \"\"\"\n",
      "    try:\n",
      "        from cStringIO import StringIO\n",
      "    except ImportError:\n",
      "        from StringIO import StringIO\n",
      "\n",
      "    sio = StringIO(data)\n",
      "\n",
      "    try:\n",
      "        yield sio\n",
      "    finally:\n",
      "        sio.close()"
     ],
     "language": "python",
     "metadata": {},
     "outputs": []
    },
    {
     "cell_type": "markdown",
     "metadata": {},
     "source": [
      "## method3 (easiest)\n",
      "http://code.activestate.com/recipes/576650-with-statement-for-stringio/#c2"
     ]
    },
    {
     "cell_type": "code",
     "collapsed": false,
     "input": [
      "from contextlib import closing\n",
      "from StringIO import StringIO\n",
      "\n",
      "with closing(StringIO()) as sio:\n",
      "    function_accepting_file_handle(sio)\n",
      "    print sio.getvalue()"
     ],
     "language": "python",
     "metadata": {},
     "outputs": []
    }
   ],
   "metadata": {}
  }
 ]
}