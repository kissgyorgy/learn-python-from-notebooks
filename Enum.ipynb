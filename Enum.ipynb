{
 "cells": [
  {
   "cell_type": "code",
   "execution_count": 1,
   "metadata": {
    "collapsed": false
   },
   "outputs": [],
   "source": [
    "from enum import Enum\n",
    "\n",
    "class Simple(Enum):\n",
    "    ONE = '1'\n",
    "    TWO = '2'\n",
    "\n",
    "class StrEnum(str, Enum):\n",
    "    pass\n",
    "\n",
    "class Shape(StrEnum):\n",
    "    OFFSUIT = 'o'\n",
    "    SUITED = 's'\n",
    "    PAIR = ''\n",
    "    ELSE = 1"
   ]
  },
  {
   "cell_type": "code",
   "execution_count": 23,
   "metadata": {
    "collapsed": false
   },
   "outputs": [
    {
     "name": "stdout",
     "output_type": "stream",
     "text": [
      "100000 loops, best of 3: 4.65 µs per loop\n"
     ]
    }
   ],
   "source": [
    "%timeit 'o' in Shape.__members__.values()"
   ]
  },
  {
   "cell_type": "code",
   "execution_count": 11,
   "metadata": {
    "collapsed": false
   },
   "outputs": [
    {
     "data": {
      "text/plain": [
       "False"
      ]
     },
     "execution_count": 11,
     "metadata": {},
     "output_type": "execute_result"
    }
   ],
   "source": [
    "Simple.ONE == '1'"
   ]
  },
  {
   "cell_type": "code",
   "execution_count": 12,
   "metadata": {
    "collapsed": false
   },
   "outputs": [
    {
     "data": {
      "text/plain": [
       "object"
      ]
     },
     "execution_count": 12,
     "metadata": {},
     "output_type": "execute_result"
    }
   ],
   "source": [
    "Simple._member_type_"
   ]
  },
  {
   "cell_type": "code",
   "execution_count": null,
   "metadata": {
    "collapsed": false
   },
   "outputs": [],
   "source": [
    "StrEnum"
   ]
  },
  {
   "cell_type": "code",
   "execution_count": 16,
   "metadata": {
    "collapsed": false
   },
   "outputs": [
    {
     "data": {
      "text/plain": [
       "<Shape.SUITED: 's'>"
      ]
     },
     "execution_count": 16,
     "metadata": {},
     "output_type": "execute_result"
    }
   ],
   "source": [
    "Shape('s')"
   ]
  },
  {
   "cell_type": "code",
   "execution_count": 22,
   "metadata": {
    "collapsed": false
   },
   "outputs": [
    {
     "data": {
      "text/plain": [
       "True"
      ]
     },
     "execution_count": 22,
     "metadata": {},
     "output_type": "execute_result"
    }
   ],
   "source": [
    "Shape('s') == Shape.SUITED == 's'"
   ]
  },
  {
   "cell_type": "code",
   "execution_count": 23,
   "metadata": {
    "collapsed": false
   },
   "outputs": [
    {
     "data": {
      "text/plain": [
       "str"
      ]
     },
     "execution_count": 23,
     "metadata": {},
     "output_type": "execute_result"
    }
   ],
   "source": [
    "Shape._member_type_"
   ]
  },
  {
   "cell_type": "code",
   "execution_count": 24,
   "metadata": {
    "collapsed": false
   },
   "outputs": [
    {
     "data": {
      "text/plain": [
       "OrderedDict([('OFFSUIT', <Shape.OFFSUIT: 'o'>), ('SUITED', <Shape.SUITED: 's'>), ('PAIR', <Shape.PAIR: ''>), ('ELSE', <Shape.ELSE: '1'>)])"
      ]
     },
     "execution_count": 24,
     "metadata": {},
     "output_type": "execute_result"
    }
   ],
   "source": [
    "Shape._member_map_"
   ]
  },
  {
   "cell_type": "code",
   "execution_count": 20,
   "metadata": {
    "collapsed": false
   },
   "outputs": [
    {
     "ename": "ValueError",
     "evalue": "1 is not a valid Shape",
     "output_type": "error",
     "traceback": [
      "\u001b[0;31m---------------------------------------------------------------------------\u001b[0m\n\u001b[0;31mValueError\u001b[0m                                Traceback (most recent call last)",
      "\u001b[0;32m<ipython-input-20-d95062dfa720>\u001b[0m in \u001b[0;36m<module>\u001b[0;34m()\u001b[0m\n\u001b[0;32m----> 1\u001b[0;31m \u001b[0mShape\u001b[0m\u001b[0;34m(\u001b[0m\u001b[0;36m1\u001b[0m\u001b[0;34m)\u001b[0m\u001b[0;34m\u001b[0m\u001b[0m\n\u001b[0m\u001b[1;32m      2\u001b[0m \u001b[0mShape\u001b[0m\u001b[0;34m.\u001b[0m\u001b[0m_member_type_\u001b[0m\u001b[0;34m\u001b[0m\u001b[0m\n",
      "\u001b[0;32m/usr/local/Cellar/python3/3.4.1_1/Frameworks/Python.framework/Versions/3.4/lib/python3.4/enum.py\u001b[0m in \u001b[0;36m__call__\u001b[0;34m(cls, value, names, module, qualname, type)\u001b[0m\n\u001b[1;32m    220\u001b[0m         \"\"\"\n\u001b[1;32m    221\u001b[0m         \u001b[0;32mif\u001b[0m \u001b[0mnames\u001b[0m \u001b[0;32mis\u001b[0m \u001b[0;32mNone\u001b[0m\u001b[0;34m:\u001b[0m  \u001b[0;31m# simple value lookup\u001b[0m\u001b[0;34m\u001b[0m\u001b[0m\n\u001b[0;32m--> 222\u001b[0;31m             \u001b[0;32mreturn\u001b[0m \u001b[0mcls\u001b[0m\u001b[0;34m.\u001b[0m\u001b[0m__new__\u001b[0m\u001b[0;34m(\u001b[0m\u001b[0mcls\u001b[0m\u001b[0;34m,\u001b[0m \u001b[0mvalue\u001b[0m\u001b[0;34m)\u001b[0m\u001b[0;34m\u001b[0m\u001b[0m\n\u001b[0m\u001b[1;32m    223\u001b[0m         \u001b[0;31m# otherwise, functional API: we're creating a new Enum type\u001b[0m\u001b[0;34m\u001b[0m\u001b[0;34m\u001b[0m\u001b[0m\n\u001b[1;32m    224\u001b[0m         \u001b[0;32mreturn\u001b[0m \u001b[0mcls\u001b[0m\u001b[0;34m.\u001b[0m\u001b[0m_create_\u001b[0m\u001b[0;34m(\u001b[0m\u001b[0mvalue\u001b[0m\u001b[0;34m,\u001b[0m \u001b[0mnames\u001b[0m\u001b[0;34m,\u001b[0m \u001b[0mmodule\u001b[0m\u001b[0;34m=\u001b[0m\u001b[0mmodule\u001b[0m\u001b[0;34m,\u001b[0m \u001b[0mqualname\u001b[0m\u001b[0;34m=\u001b[0m\u001b[0mqualname\u001b[0m\u001b[0;34m,\u001b[0m \u001b[0mtype\u001b[0m\u001b[0;34m=\u001b[0m\u001b[0mtype\u001b[0m\u001b[0;34m)\u001b[0m\u001b[0;34m\u001b[0m\u001b[0m\n",
      "\u001b[0;32m/usr/local/Cellar/python3/3.4.1_1/Frameworks/Python.framework/Versions/3.4/lib/python3.4/enum.py\u001b[0m in \u001b[0;36m__new__\u001b[0;34m(cls, value)\u001b[0m\n\u001b[1;32m    455\u001b[0m                 \u001b[0;32mif\u001b[0m \u001b[0mmember\u001b[0m\u001b[0;34m.\u001b[0m\u001b[0mvalue\u001b[0m \u001b[0;34m==\u001b[0m \u001b[0mvalue\u001b[0m\u001b[0;34m:\u001b[0m\u001b[0;34m\u001b[0m\u001b[0m\n\u001b[1;32m    456\u001b[0m                     \u001b[0;32mreturn\u001b[0m \u001b[0mmember\u001b[0m\u001b[0;34m\u001b[0m\u001b[0m\n\u001b[0;32m--> 457\u001b[0;31m         \u001b[0;32mraise\u001b[0m \u001b[0mValueError\u001b[0m\u001b[0;34m(\u001b[0m\u001b[0;34m\"%s is not a valid %s\"\u001b[0m \u001b[0;34m%\u001b[0m \u001b[0;34m(\u001b[0m\u001b[0mvalue\u001b[0m\u001b[0;34m,\u001b[0m \u001b[0mcls\u001b[0m\u001b[0;34m.\u001b[0m\u001b[0m__name__\u001b[0m\u001b[0;34m)\u001b[0m\u001b[0;34m)\u001b[0m\u001b[0;34m\u001b[0m\u001b[0m\n\u001b[0m\u001b[1;32m    458\u001b[0m \u001b[0;34m\u001b[0m\u001b[0m\n\u001b[1;32m    459\u001b[0m     \u001b[0;32mdef\u001b[0m \u001b[0m__repr__\u001b[0m\u001b[0;34m(\u001b[0m\u001b[0mself\u001b[0m\u001b[0;34m)\u001b[0m\u001b[0;34m:\u001b[0m\u001b[0;34m\u001b[0m\u001b[0m\n",
      "\u001b[0;31mValueError\u001b[0m: 1 is not a valid Shape"
     ]
    }
   ],
   "source": [
    "Shape(1)"
   ]
  },
  {
   "cell_type": "code",
   "execution_count": 4,
   "metadata": {
    "collapsed": false
   },
   "outputs": [
    {
     "data": {
      "text/plain": [
       "<Shape.ELSE: '1'>"
      ]
     },
     "execution_count": 4,
     "metadata": {},
     "output_type": "execute_result"
    }
   ],
   "source": [
    "Shape('1')"
   ]
  },
  {
   "cell_type": "code",
   "execution_count": 5,
   "metadata": {
    "collapsed": false
   },
   "outputs": [
    {
     "data": {
      "text/plain": [
       "[<Shape.OFFSUIT: 'o'>,\n",
       " <Shape.SUITED: 's'>,\n",
       " <Shape.PAIR: ''>,\n",
       " <Shape.ELSE: '1'>]"
      ]
     },
     "execution_count": 5,
     "metadata": {},
     "output_type": "execute_result"
    }
   ],
   "source": [
    "list(Shape)"
   ]
  },
  {
   "cell_type": "code",
   "execution_count": 6,
   "metadata": {
    "collapsed": false
   },
   "outputs": [
    {
     "data": {
      "text/plain": [
       "True"
      ]
     },
     "execution_count": 6,
     "metadata": {},
     "output_type": "execute_result"
    }
   ],
   "source": [
    "isinstance(Shape.ELSE, str)"
   ]
  },
  {
   "cell_type": "code",
   "execution_count": 7,
   "metadata": {
    "collapsed": false
   },
   "outputs": [
    {
     "data": {
      "text/plain": [
       "<Shape.OFFSUIT: 'o'>"
      ]
     },
     "execution_count": 7,
     "metadata": {},
     "output_type": "execute_result"
    }
   ],
   "source": [
    "Shape.OFFSUIT"
   ]
  },
  {
   "cell_type": "code",
   "execution_count": 8,
   "metadata": {
    "collapsed": false
   },
   "outputs": [
    {
     "data": {
      "text/plain": [
       "'o'"
      ]
     },
     "execution_count": 8,
     "metadata": {},
     "output_type": "execute_result"
    }
   ],
   "source": [
    "Shape.OFFSUIT.value"
   ]
  },
  {
   "cell_type": "code",
   "execution_count": 9,
   "metadata": {
    "collapsed": false
   },
   "outputs": [
    {
     "data": {
      "text/plain": [
       "str"
      ]
     },
     "execution_count": 9,
     "metadata": {},
     "output_type": "execute_result"
    }
   ],
   "source": [
    "type(Shape.ELSE.value)"
   ]
  },
  {
   "cell_type": "code",
   "execution_count": 10,
   "metadata": {
    "collapsed": false
   },
   "outputs": [],
   "source": [
    "from poker.hand import Shape as PokerShape"
   ]
  },
  {
   "cell_type": "code",
   "execution_count": 11,
   "metadata": {
    "collapsed": false
   },
   "outputs": [
    {
     "data": {
      "text/plain": [
       "'o'"
      ]
     },
     "execution_count": 11,
     "metadata": {},
     "output_type": "execute_result"
    }
   ],
   "source": [
    "PokerShape.OFFSUIT.value"
   ]
  },
  {
   "cell_type": "code",
   "execution_count": 12,
   "metadata": {
    "collapsed": false
   },
   "outputs": [
    {
     "data": {
      "text/plain": [
       "Shape('o')"
      ]
     },
     "execution_count": 12,
     "metadata": {},
     "output_type": "execute_result"
    }
   ],
   "source": [
    "PokerShape.OFFSUIT"
   ]
  },
  {
   "cell_type": "code",
   "execution_count": 13,
   "metadata": {
    "collapsed": false
   },
   "outputs": [
    {
     "data": {
      "text/plain": [
       "False"
      ]
     },
     "execution_count": 13,
     "metadata": {},
     "output_type": "execute_result"
    }
   ],
   "source": [
    "isinstance(PokerShape.OFFSUIT, str)"
   ]
  },
  {
   "cell_type": "code",
   "execution_count": 14,
   "metadata": {
    "collapsed": false
   },
   "outputs": [
    {
     "data": {
      "text/plain": [
       "True"
      ]
     },
     "execution_count": 14,
     "metadata": {},
     "output_type": "execute_result"
    }
   ],
   "source": [
    "Shape.ELSE == '1'"
   ]
  },
  {
   "cell_type": "code",
   "execution_count": 17,
   "metadata": {
    "collapsed": false
   },
   "outputs": [],
   "source": [
    "class SimpleInt(int, Enum):\n",
    "    one = 1\n",
    "    two = '2'"
   ]
  },
  {
   "cell_type": "code",
   "execution_count": 18,
   "metadata": {
    "collapsed": false
   },
   "outputs": [
    {
     "data": {
      "text/plain": [
       "<SimpleInt.two: 2>"
      ]
     },
     "execution_count": 18,
     "metadata": {},
     "output_type": "execute_result"
    }
   ],
   "source": [
    "SimpleInt(2)"
   ]
  },
  {
   "cell_type": "code",
   "execution_count": 19,
   "metadata": {
    "collapsed": false
   },
   "outputs": [
    {
     "data": {
      "text/plain": [
       "False"
      ]
     },
     "execution_count": 19,
     "metadata": {},
     "output_type": "execute_result"
    }
   ],
   "source": [
    "SimpleInt.two == '2'"
   ]
  },
  {
   "cell_type": "code",
   "execution_count": 20,
   "metadata": {
    "collapsed": false
   },
   "outputs": [
    {
     "data": {
      "text/plain": [
       "True"
      ]
     },
     "execution_count": 20,
     "metadata": {},
     "output_type": "execute_result"
    }
   ],
   "source": [
    "SimpleInt.two == 2"
   ]
  },
  {
   "cell_type": "code",
   "execution_count": 6,
   "metadata": {
    "collapsed": false
   },
   "outputs": [],
   "source": [
    "from enum34_custom import StrEnum"
   ]
  },
  {
   "cell_type": "code",
   "execution_count": 1,
   "metadata": {
    "collapsed": false
   },
   "outputs": [
    {
     "name": "stdout",
     "output_type": "stream",
     "text": [
      "(<class 'str'>, <enum 'Enum'>) Ellipsis\n"
     ]
    }
   ],
   "source": [
    "from enum34_custom import MultiValueEnum2"
   ]
  },
  {
   "cell_type": "code",
   "execution_count": 4,
   "metadata": {
    "collapsed": false
   },
   "outputs": [],
   "source": [
    "class MyTupleEnum(MultiValueEnum2):\n",
    "    a = 1\n",
    "    b = 1, 2, 3"
   ]
  },
  {
   "cell_type": "code",
   "execution_count": 5,
   "metadata": {
    "collapsed": false
   },
   "outputs": [
    {
     "data": {
      "text/plain": [
       "<MyTupleEnum.a: (1,)>"
      ]
     },
     "execution_count": 5,
     "metadata": {},
     "output_type": "execute_result"
    }
   ],
   "source": [
    "MyTupleEnum.a"
   ]
  },
  {
   "cell_type": "code",
   "execution_count": 6,
   "metadata": {
    "collapsed": false
   },
   "outputs": [
    {
     "data": {
      "text/plain": [
       "<MyTupleEnum.b: (1, 2, 3)>"
      ]
     },
     "execution_count": 6,
     "metadata": {},
     "output_type": "execute_result"
    }
   ],
   "source": [
    "MyTupleEnum.b"
   ]
  },
  {
   "cell_type": "code",
   "execution_count": 8,
   "metadata": {
    "collapsed": false
   },
   "outputs": [
    {
     "data": {
      "text/plain": [
       "<MyTupleEnum.b: (1, 2, 3)>"
      ]
     },
     "execution_count": 8,
     "metadata": {},
     "output_type": "execute_result"
    }
   ],
   "source": [
    "MyTupleEnum((1, 2, 3))"
   ]
  },
  {
   "cell_type": "code",
   "execution_count": 9,
   "metadata": {
    "collapsed": false
   },
   "outputs": [],
   "source": [
    "from enum import Enum\n",
    "\n",
    "class TupleEnum(tuple, Enum):\n",
    "    a = (1, 4)\n",
    "    b = (2, 3)"
   ]
  },
  {
   "cell_type": "code",
   "execution_count": 10,
   "metadata": {
    "collapsed": false
   },
   "outputs": [
    {
     "data": {
      "text/plain": [
       "<TupleEnum.a: (1, 4)>"
      ]
     },
     "execution_count": 10,
     "metadata": {},
     "output_type": "execute_result"
    }
   ],
   "source": [
    "TupleEnum.a"
   ]
  },
  {
   "cell_type": "code",
   "execution_count": 11,
   "metadata": {
    "collapsed": false
   },
   "outputs": [
    {
     "data": {
      "text/plain": [
       "True"
      ]
     },
     "execution_count": 11,
     "metadata": {},
     "output_type": "execute_result"
    }
   ],
   "source": [
    "TupleEnum.a == (1, 4)"
   ]
  },
  {
   "cell_type": "code",
   "execution_count": 12,
   "metadata": {
    "collapsed": false
   },
   "outputs": [
    {
     "ename": "ValueError",
     "evalue": "1 is not a valid TupleEnum",
     "output_type": "error",
     "traceback": [
      "\u001b[0;31m---------------------------------------------------------------------------\u001b[0m\n\u001b[0;31mValueError\u001b[0m                                Traceback (most recent call last)",
      "\u001b[0;32m<ipython-input-12-6e79a7eff1ba>\u001b[0m in \u001b[0;36m<module>\u001b[0;34m()\u001b[0m\n\u001b[0;32m----> 1\u001b[0;31m \u001b[0mTupleEnum\u001b[0m\u001b[0;34m(\u001b[0m\u001b[0;36m1\u001b[0m\u001b[0;34m)\u001b[0m\u001b[0;34m\u001b[0m\u001b[0m\n\u001b[0m",
      "\u001b[0;32m/usr/local/Cellar/python3/3.4.1_1/Frameworks/Python.framework/Versions/3.4/lib/python3.4/enum.py\u001b[0m in \u001b[0;36m__call__\u001b[0;34m(cls, value, names, module, qualname, type)\u001b[0m\n\u001b[1;32m    220\u001b[0m         \"\"\"\n\u001b[1;32m    221\u001b[0m         \u001b[0;32mif\u001b[0m \u001b[0mnames\u001b[0m \u001b[0;32mis\u001b[0m \u001b[0;32mNone\u001b[0m\u001b[0;34m:\u001b[0m  \u001b[0;31m# simple value lookup\u001b[0m\u001b[0;34m\u001b[0m\u001b[0m\n\u001b[0;32m--> 222\u001b[0;31m             \u001b[0;32mreturn\u001b[0m \u001b[0mcls\u001b[0m\u001b[0;34m.\u001b[0m\u001b[0m__new__\u001b[0m\u001b[0;34m(\u001b[0m\u001b[0mcls\u001b[0m\u001b[0;34m,\u001b[0m \u001b[0mvalue\u001b[0m\u001b[0;34m)\u001b[0m\u001b[0;34m\u001b[0m\u001b[0m\n\u001b[0m\u001b[1;32m    223\u001b[0m         \u001b[0;31m# otherwise, functional API: we're creating a new Enum type\u001b[0m\u001b[0;34m\u001b[0m\u001b[0;34m\u001b[0m\u001b[0m\n\u001b[1;32m    224\u001b[0m         \u001b[0;32mreturn\u001b[0m \u001b[0mcls\u001b[0m\u001b[0;34m.\u001b[0m\u001b[0m_create_\u001b[0m\u001b[0;34m(\u001b[0m\u001b[0mvalue\u001b[0m\u001b[0;34m,\u001b[0m \u001b[0mnames\u001b[0m\u001b[0;34m,\u001b[0m \u001b[0mmodule\u001b[0m\u001b[0;34m=\u001b[0m\u001b[0mmodule\u001b[0m\u001b[0;34m,\u001b[0m \u001b[0mqualname\u001b[0m\u001b[0;34m=\u001b[0m\u001b[0mqualname\u001b[0m\u001b[0;34m,\u001b[0m \u001b[0mtype\u001b[0m\u001b[0;34m=\u001b[0m\u001b[0mtype\u001b[0m\u001b[0;34m)\u001b[0m\u001b[0;34m\u001b[0m\u001b[0m\n",
      "\u001b[0;32m/usr/local/Cellar/python3/3.4.1_1/Frameworks/Python.framework/Versions/3.4/lib/python3.4/enum.py\u001b[0m in \u001b[0;36m__new__\u001b[0;34m(cls, value)\u001b[0m\n\u001b[1;32m    455\u001b[0m                 \u001b[0;32mif\u001b[0m \u001b[0mmember\u001b[0m\u001b[0;34m.\u001b[0m\u001b[0mvalue\u001b[0m \u001b[0;34m==\u001b[0m \u001b[0mvalue\u001b[0m\u001b[0;34m:\u001b[0m\u001b[0;34m\u001b[0m\u001b[0m\n\u001b[1;32m    456\u001b[0m                     \u001b[0;32mreturn\u001b[0m \u001b[0mmember\u001b[0m\u001b[0;34m\u001b[0m\u001b[0m\n\u001b[0;32m--> 457\u001b[0;31m         \u001b[0;32mraise\u001b[0m \u001b[0mValueError\u001b[0m\u001b[0;34m(\u001b[0m\u001b[0;34m\"%s is not a valid %s\"\u001b[0m \u001b[0;34m%\u001b[0m \u001b[0;34m(\u001b[0m\u001b[0mvalue\u001b[0m\u001b[0;34m,\u001b[0m \u001b[0mcls\u001b[0m\u001b[0;34m.\u001b[0m\u001b[0m__name__\u001b[0m\u001b[0;34m)\u001b[0m\u001b[0;34m)\u001b[0m\u001b[0;34m\u001b[0m\u001b[0m\n\u001b[0m\u001b[1;32m    458\u001b[0m \u001b[0;34m\u001b[0m\u001b[0m\n\u001b[1;32m    459\u001b[0m     \u001b[0;32mdef\u001b[0m \u001b[0m__repr__\u001b[0m\u001b[0;34m(\u001b[0m\u001b[0mself\u001b[0m\u001b[0;34m)\u001b[0m\u001b[0;34m:\u001b[0m\u001b[0;34m\u001b[0m\u001b[0m\n",
      "\u001b[0;31mValueError\u001b[0m: 1 is not a valid TupleEnum"
     ]
    }
   ],
   "source": [
    "TupleEnum(1)"
   ]
  },
  {
   "cell_type": "code",
   "execution_count": 27,
   "metadata": {
    "collapsed": false
   },
   "outputs": [
    {
     "data": {
      "text/plain": [
       "<Name.ABC: '1'>"
      ]
     },
     "execution_count": 27,
     "metadata": {},
     "output_type": "execute_result"
    }
   ],
   "source": [
    "class StrEnum(str, Enum):\n",
    "    'accepts only string values'\n",
    "\n",
    "class Name(StrEnum):\n",
    "    BDFL = 'Guido van Rossum'\n",
    "    FLUFL = 'Barry Warsaw'\n",
    "    ABC = 1\n",
    "\n",
    "Name.ABC"
   ]
  },
  {
   "cell_type": "code",
   "execution_count": 30,
   "metadata": {
    "collapsed": false
   },
   "outputs": [
    {
     "data": {
      "text/plain": [
       "False"
      ]
     },
     "execution_count": 30,
     "metadata": {},
     "output_type": "execute_result"
    }
   ],
   "source": [
    "'1' < '2' < '3' > '4'"
   ]
  },
  {
   "cell_type": "code",
   "execution_count": 31,
   "metadata": {
    "collapsed": false
   },
   "outputs": [
    {
     "data": {
      "text/plain": [
       "True"
      ]
     },
     "execution_count": 31,
     "metadata": {},
     "output_type": "execute_result"
    }
   ],
   "source": [
    "'1' < 'A'"
   ]
  },
  {
   "cell_type": "markdown",
   "metadata": {},
   "source": [
    "# Poker vs custom"
   ]
  },
  {
   "cell_type": "code",
   "execution_count": 1,
   "metadata": {
    "collapsed": false
   },
   "outputs": [],
   "source": [
    "from enum import EnumMeta, Enum\n",
    "from types import DynamicClassAttribute\n",
    "from functools import total_ordering\n",
    "\n",
    "\n",
    "class _MultiMeta(EnumMeta):\n",
    "    def __init__(enum_class, cls, bases, classdict):\n",
    "        # make sure we only have tuple values, not single values\n",
    "        for member in enum_class.__members__.values():\n",
    "            if not isinstance(member._value_, tuple):\n",
    "                raise ValueError('{!r}, should be tuple'.format(member._value_))\n",
    "\n",
    "    def __call__(cls, suit):\n",
    "        for member in cls:\n",
    "            if suit in member._value_:\n",
    "                return member\n",
    "        return super().__call__(suit)\n",
    "\n",
    "    def make_random(cls):\n",
    "        return random.choice(list(cls))\n",
    "\n",
    "\n",
    "@total_ordering\n",
    "class _MultiValueEnum(Enum, metaclass=_MultiMeta):\n",
    "    # pass\n",
    "    # From Python manual:\n",
    "    # If a class that overrides __eq__() needs to retain the implementation of __hash__()\n",
    "    # from a parent class, the interpreter must be told this explicitly\n",
    "    def __hash__(self):\n",
    "        return super().__hash__()\n",
    "\n",
    "    def __eq__(self, other):\n",
    "        if self.__class__ is other.__class__:\n",
    "            return self._value_ == other._value_\n",
    "        return NotImplemented\n",
    "\n",
    "    def __lt__(self, other):\n",
    "        if self.__class__ is other.__class__:\n",
    "            names = self.__class__._member_names_\n",
    "            return names.index(self.name) < names.index(other.name)\n",
    "        return NotImplemented\n",
    "\n",
    "    def __str__(self):\n",
    "        return str(self.value)\n",
    "\n",
    "    # def __repr__(self):\n",
    "        # apostrophe = \"'\" if isinstance(self.value, str) else ''\n",
    "        # return \"{0}({1}{2}{1})\".format(self.__class__.__qualname__, apostrophe, self)\n",
    "\n",
    "    @DynamicClassAttribute\n",
    "    def value(self):\n",
    "        \"\"\"The value of the Enum member.\"\"\"\n",
    "        return self._value_[0]"
   ]
  },
  {
   "cell_type": "code",
   "execution_count": 2,
   "metadata": {
    "collapsed": false
   },
   "outputs": [],
   "source": [
    "class Suit(_MultiValueEnum):\n",
    "    CLUBS =    '♣', 'c', 'C', 'clubs'\n",
    "    DIAMONDS = '♦', 'd', 'D', 'diamonds'\n",
    "    HEARTS =   '♥', 'h', 'H', 'hearts'\n",
    "    SPADES =   '♠', 's', 'S', 'spades'\n",
    "    C = '♣', 'c', 'C', 'clubs'\n",
    "    D = '♦', 'd', 'D', 'diamonds'\n",
    "    H = HEARTS\n",
    "    S = SPADES"
   ]
  },
  {
   "cell_type": "code",
   "execution_count": 3,
   "metadata": {
    "collapsed": false
   },
   "outputs": [
    {
     "data": {
      "text/plain": [
       "<Suit.C: ('♣', 'c', 'C', 'clubs')>"
      ]
     },
     "execution_count": 3,
     "metadata": {},
     "output_type": "execute_result"
    }
   ],
   "source": [
    "Suit.C"
   ]
  },
  {
   "cell_type": "markdown",
   "metadata": {},
   "source": [
    "## Custom"
   ]
  },
  {
   "cell_type": "code",
   "execution_count": 4,
   "metadata": {
    "collapsed": false
   },
   "outputs": [],
   "source": [
    "from enum import Enum, EnumMeta\n",
    "from collections import Iterable\n",
    "\n",
    "class _MultiValueMeta2(EnumMeta):\n",
    "    def __init__(self, clsname, bases, classdict):\n",
    "        # make sure we only have tuple values, not single values\n",
    "        for member in self.__members__.values():\n",
    "            val = member.value\n",
    "            if not isinstance(val, Iterable) or isinstance(val, str):\n",
    "                raise TypeError('{} = {!r}, should be iterable, not {}!'\n",
    "                    .format(member.name, val, type(val))\n",
    "                )\n",
    "            # set is faster to lookup\n",
    "            member._lookup_set_ = set(val)\n",
    "\n",
    "    def __call__(cls, value):\n",
    "        \"\"\"Return the appropriate instance with any of the values listed.\"\"\"\n",
    "        for member in cls:\n",
    "            if value in member._lookup_set_:\n",
    "                return member\n",
    "        else:\n",
    "            raise ValueError(\"%s is not a valid %s\" % (value, cls.__name__))\n",
    "\n",
    "\n",
    "class MultiValueEnum2(Enum, metaclass=_MultiValueMeta2):\n",
    "    \"\"\"Enum subclass where a member can be any iterable (except str).\n",
    "    You can reference a member by any of its element in the associated iterable.\n",
    "    \"\"\"\n"
   ]
  },
  {
   "cell_type": "code",
   "execution_count": 5,
   "metadata": {
    "collapsed": false
   },
   "outputs": [],
   "source": [
    "class Suit2(MultiValueEnum2):\n",
    "    CLUBS =    '♣', 'c', 'C', 'clubs'\n",
    "    DIAMONDS = '♦', 'd', 'D', 'diamonds'\n",
    "    HEARTS =   '♥', 'h', 'H', 'hearts'\n",
    "    SPADES =   '♠', 's', 'S', 'spades'\n",
    "    C = '♣', 'c', 'C', 'clubs'\n",
    "    D = '♦', 'd', 'D', 'diamonds'\n",
    "    H = HEARTS\n",
    "    S = SPADES"
   ]
  },
  {
   "cell_type": "code",
   "execution_count": 6,
   "metadata": {
    "collapsed": false
   },
   "outputs": [
    {
     "data": {
      "text/plain": [
       "<Suit2.CLUBS: ('♣', 'c', 'C', 'clubs')>"
      ]
     },
     "execution_count": 6,
     "metadata": {},
     "output_type": "execute_result"
    }
   ],
   "source": [
    "Suit2.C"
   ]
  },
  {
   "cell_type": "markdown",
   "metadata": {},
   "source": [
    "# Bugreport"
   ]
  },
  {
   "cell_type": "code",
   "execution_count": 3,
   "metadata": {
    "collapsed": false
   },
   "outputs": [],
   "source": [
    "from enum import EnumMeta, Enum\n",
    "from types import DynamicClassAttribute\n",
    "\n",
    "\n",
    "class _MultiMeta(EnumMeta):\n",
    "    def __init__(enum_class, cls, bases, classdict):\n",
    "        # make sure we only have tuple values, not single values\n",
    "        for member in enum_class.__members__.values():\n",
    "            if not isinstance(member._value_, tuple):\n",
    "                raise ValueError('{!r}, should be tuple'.format(member._value_))\n",
    "\n",
    "    def __call__(cls, suit):\n",
    "        for member in cls:\n",
    "            if suit in member._value_:\n",
    "                return member\n",
    "        return super().__call__(suit)\n",
    "\n",
    "\n",
    "class MultiValueEnum(Enum, metaclass=_MultiMeta):\n",
    "    @DynamicClassAttribute\n",
    "    def value(self):\n",
    "        \"\"\"The value of the Enum member.\"\"\"\n",
    "        return self._value_[0]\n",
    "\n",
    "class IncorrectAliasBehavior(MultiValueEnum):\n",
    "    first = 1, 2, 3\n",
    "    second = 4, 5, 6\n",
    "    alias_to_first = 1, 2, 3"
   ]
  },
  {
   "cell_type": "code",
   "execution_count": 4,
   "metadata": {
    "collapsed": false
   },
   "outputs": [
    {
     "data": {
      "text/plain": [
       "<IncorrectAliasBehavior.alias_to_first: (1, 2, 3)>"
      ]
     },
     "execution_count": 4,
     "metadata": {},
     "output_type": "execute_result"
    }
   ],
   "source": [
    "IncorrectAliasBehavior.alias_to_first"
   ]
  },
  {
   "cell_type": "markdown",
   "metadata": {},
   "source": [
    "# "
   ]
  },
  {
   "cell_type": "code",
   "execution_count": 1,
   "metadata": {
    "collapsed": false
   },
   "outputs": [],
   "source": [
    ">>> from enum import Enum\n",
    ">>> class Color(Enum):\n",
    "...     red = 1\n",
    "...     green = 2\n",
    "...     blue = 3"
   ]
  },
  {
   "cell_type": "code",
   "execution_count": 2,
   "metadata": {
    "collapsed": false
   },
   "outputs": [
    {
     "data": {
      "text/plain": [
       "<Color.red: 1>"
      ]
     },
     "execution_count": 2,
     "metadata": {},
     "output_type": "execute_result"
    }
   ],
   "source": [
    "Color(Color.red)"
   ]
  },
  {
   "cell_type": "code",
   "execution_count": 3,
   "metadata": {
    "collapsed": false
   },
   "outputs": [
    {
     "data": {
      "text/plain": [
       "<Color.red: 1>"
      ]
     },
     "execution_count": 3,
     "metadata": {},
     "output_type": "execute_result"
    }
   ],
   "source": [
    "Color['red']"
   ]
  },
  {
   "cell_type": "code",
   "execution_count": 4,
   "metadata": {
    "collapsed": false
   },
   "outputs": [
    {
     "data": {
      "text/plain": [
       "<Color.green: 2>"
      ]
     },
     "execution_count": 4,
     "metadata": {},
     "output_type": "execute_result"
    }
   ],
   "source": [
    "Color['green']"
   ]
  },
  {
   "cell_type": "code",
   "execution_count": 6,
   "metadata": {
    "collapsed": false
   },
   "outputs": [
    {
     "data": {
      "text/plain": [
       "<Color.red: 1>"
      ]
     },
     "execution_count": 6,
     "metadata": {},
     "output_type": "execute_result"
    }
   ],
   "source": [
    "Color(Color(Color.red))"
   ]
  },
  {
   "cell_type": "markdown",
   "metadata": {},
   "source": [
    "# Pickable"
   ]
  },
  {
   "cell_type": "code",
   "execution_count": 1,
   "metadata": {
    "collapsed": false
   },
   "outputs": [
    {
     "data": {
      "text/plain": [
       "b'\\x80\\x03c__main__\\nColor\\nq\\x00K\\x01K\\x02\\x86q\\x01\\x85q\\x02Rq\\x03.'"
      ]
     },
     "execution_count": 1,
     "metadata": {},
     "output_type": "execute_result"
    }
   ],
   "source": [
    "import pickle\n",
    "from enum34_custom import OrderableMixin, MultiValueEnum\n",
    "\n",
    "\n",
    "class Color(OrderableMixin, MultiValueEnum):\n",
    "    red = 1, 2\n",
    "    green = 3, 4\n",
    "    blue = 1, 2 \n",
    "    yellow = red\n",
    "\n",
    "pickle.dumps(Color.red)"
   ]
  },
  {
   "cell_type": "code",
   "execution_count": 2,
   "metadata": {
    "collapsed": false
   },
   "outputs": [],
   "source": [
    "red = pickle.loads(pickle.dumps(Color.red))"
   ]
  },
  {
   "cell_type": "code",
   "execution_count": 3,
   "metadata": {
    "collapsed": false
   },
   "outputs": [
    {
     "data": {
      "text/plain": [
       "<Color.red: (1, 2)>"
      ]
     },
     "execution_count": 3,
     "metadata": {},
     "output_type": "execute_result"
    }
   ],
   "source": [
    "red"
   ]
  },
  {
   "cell_type": "code",
   "execution_count": 4,
   "metadata": {
    "collapsed": false
   },
   "outputs": [
    {
     "data": {
      "text/plain": [
       "True"
      ]
     },
     "execution_count": 4,
     "metadata": {},
     "output_type": "execute_result"
    }
   ],
   "source": [
    "red < Color.green"
   ]
  },
  {
   "cell_type": "code",
   "execution_count": 5,
   "metadata": {
    "collapsed": false
   },
   "outputs": [
    {
     "data": {
      "text/plain": [
       "False"
      ]
     },
     "execution_count": 5,
     "metadata": {},
     "output_type": "execute_result"
    }
   ],
   "source": [
    "red >Color.green"
   ]
  },
  {
   "cell_type": "code",
   "execution_count": 6,
   "metadata": {
    "collapsed": false
   },
   "outputs": [
    {
     "data": {
      "text/plain": [
       "[<Color.red: (1, 2)>, <Color.green: (3, 4)>]"
      ]
     },
     "execution_count": 6,
     "metadata": {},
     "output_type": "execute_result"
    }
   ],
   "source": [
    "list(Color)"
   ]
  },
  {
   "cell_type": "markdown",
   "metadata": {},
   "source": [
    "# Compare"
   ]
  },
  {
   "cell_type": "code",
   "execution_count": 3,
   "metadata": {
    "collapsed": false
   },
   "outputs": [
    {
     "data": {
      "text/plain": [
       "False"
      ]
     },
     "execution_count": 3,
     "metadata": {},
     "output_type": "execute_result"
    }
   ],
   "source": [
    "from enum34_custom import MultiValueEnum, OrderableMixin\n",
    "\n",
    "class Color(OrderableMixin, MultiValueEnum):\n",
    "    red = 'r', 'red', '#F00'\n",
    "    green = 'g', 'green', '#0F0'\n",
    "    \n",
    "\n",
    "Color.red == 'red'\n",
    "Color.red == 'r'\n",
    "Color.red == '#F00'"
   ]
  },
  {
   "cell_type": "markdown",
   "metadata": {},
   "source": [
    "# Much simpler MultivalueEnum"
   ]
  },
  {
   "cell_type": "code",
   "execution_count": 10,
   "metadata": {
    "collapsed": false
   },
   "outputs": [],
   "source": [
    "from enum import Enum\n",
    "from types import DynamicClassAttribute\n",
    "\n",
    "\n",
    "class MultiValueEnum(Enum):\n",
    "    def __new__(cls, *values):\n",
    "        print('NEW:', cls, values)\n",
    "        obj = object.__new__(cls)\n",
    "        obj._value_ = values\n",
    "        obj._all_values = values\n",
    "        for alias in values:\n",
    "            cls._value2member_map_[alias] = obj\n",
    "        return obj\n",
    "    \n",
    "    def __repr__(self):\n",
    "        return \"<%s.%s: %s>\" % (\n",
    "             self.__class__.__name__,\n",
    "             self._name_,\n",
    "             ', '.join([\"'%s'\" % v for v in self._all_values])\n",
    "             )\n",
    "    \n",
    "    @DynamicClassAttribute\n",
    "    def value(self):\n",
    "        return self._value_[0]"
   ]
  },
  {
   "cell_type": "code",
   "execution_count": 11,
   "metadata": {
    "collapsed": false
   },
   "outputs": [
    {
     "name": "stdout",
     "output_type": "stream",
     "text": [
      "NEW: <enum 'Suit'> ('♣', 'c', 'C', 'clubs', 'club')\n",
      "NEW: <enum 'Suit'> ('♦', 'd', 'D', 'diamonds', 'diamond')\n",
      "NEW: <enum 'Suit'> ('♥', 'h', 'H', 'hearts', 'heart')\n",
      "NEW: <enum 'Suit'> ('♠', 's', 'S', 'spades', 'spade')\n",
      "NEW: <enum 'Suit'> ('♠', 's', 'S', 'spades', 'spade')\n"
     ]
    }
   ],
   "source": [
    "class Suit(MultiValueEnum):\n",
    "    CLUBS =    '♣', 'c', 'C', 'clubs', 'club'\n",
    "    DIAMONDS = '♦', 'd', 'D', 'diamonds', 'diamond'\n",
    "    HEARTS =   '♥', 'h', 'H', 'hearts', 'heart'\n",
    "    SPADES =   '♠', 's', 'S', 'spades', 'spade'\n",
    "    S = SPADES"
   ]
  },
  {
   "cell_type": "code",
   "execution_count": 12,
   "metadata": {
    "collapsed": false
   },
   "outputs": [
    {
     "data": {
      "text/plain": [
       "<Suit.CLUBS: '♣', 'c', 'C', 'clubs', 'club'>"
      ]
     },
     "execution_count": 12,
     "metadata": {},
     "output_type": "execute_result"
    }
   ],
   "source": [
    "Suit('c')"
   ]
  },
  {
   "cell_type": "code",
   "execution_count": 13,
   "metadata": {
    "collapsed": false
   },
   "outputs": [
    {
     "data": {
      "text/plain": [
       "{'♦': <Suit.DIAMONDS: '♦', 'd', 'D', 'diamonds', 'diamond'>,\n",
       " ('♠',\n",
       "  's',\n",
       "  'S',\n",
       "  'spades',\n",
       "  'spade'): <Suit.S: '♠', 's', 'S', 'spades', 'spade'>,\n",
       " 'spade': <Suit.S: '♠', 's', 'S', 'spades', 'spade'>,\n",
       " ('♣',\n",
       "  'c',\n",
       "  'C',\n",
       "  'clubs',\n",
       "  'club'): <Suit.CLUBS: '♣', 'c', 'C', 'clubs', 'club'>,\n",
       " '♣': <Suit.CLUBS: '♣', 'c', 'C', 'clubs', 'club'>,\n",
       " '♥': <Suit.HEARTS: '♥', 'h', 'H', 'hearts', 'heart'>,\n",
       " '♠': <Suit.S: '♠', 's', 'S', 'spades', 'spade'>,\n",
       " ('♥',\n",
       "  'h',\n",
       "  'H',\n",
       "  'hearts',\n",
       "  'heart'): <Suit.HEARTS: '♥', 'h', 'H', 'hearts', 'heart'>,\n",
       " 'd': <Suit.DIAMONDS: '♦', 'd', 'D', 'diamonds', 'diamond'>,\n",
       " 'diamonds': <Suit.DIAMONDS: '♦', 'd', 'D', 'diamonds', 'diamond'>,\n",
       " 'H': <Suit.HEARTS: '♥', 'h', 'H', 'hearts', 'heart'>,\n",
       " 'diamond': <Suit.DIAMONDS: '♦', 'd', 'D', 'diamonds', 'diamond'>,\n",
       " 'spades': <Suit.S: '♠', 's', 'S', 'spades', 'spade'>,\n",
       " 'h': <Suit.HEARTS: '♥', 'h', 'H', 'hearts', 'heart'>,\n",
       " 'club': <Suit.CLUBS: '♣', 'c', 'C', 'clubs', 'club'>,\n",
       " 'hearts': <Suit.HEARTS: '♥', 'h', 'H', 'hearts', 'heart'>,\n",
       " 'clubs': <Suit.CLUBS: '♣', 'c', 'C', 'clubs', 'club'>,\n",
       " 's': <Suit.S: '♠', 's', 'S', 'spades', 'spade'>,\n",
       " 'heart': <Suit.HEARTS: '♥', 'h', 'H', 'hearts', 'heart'>,\n",
       " ('♦',\n",
       "  'd',\n",
       "  'D',\n",
       "  'diamonds',\n",
       "  'diamond'): <Suit.DIAMONDS: '♦', 'd', 'D', 'diamonds', 'diamond'>,\n",
       " 'D': <Suit.DIAMONDS: '♦', 'd', 'D', 'diamonds', 'diamond'>,\n",
       " 'c': <Suit.CLUBS: '♣', 'c', 'C', 'clubs', 'club'>,\n",
       " 'C': <Suit.CLUBS: '♣', 'c', 'C', 'clubs', 'club'>,\n",
       " 'S': <Suit.S: '♠', 's', 'S', 'spades', 'spade'>}"
      ]
     },
     "execution_count": 13,
     "metadata": {},
     "output_type": "execute_result"
    }
   ],
   "source": [
    "Suit._value2member_map_"
   ]
  },
  {
   "cell_type": "code",
   "execution_count": 14,
   "metadata": {
    "collapsed": false
   },
   "outputs": [
    {
     "data": {
      "text/plain": [
       "mappingproxy(OrderedDict([('CLUBS', <Suit.CLUBS: '♣', 'c', 'C', 'clubs', 'club'>), ('DIAMONDS', <Suit.DIAMONDS: '♦', 'd', 'D', 'diamonds', 'diamond'>), ('HEARTS', <Suit.HEARTS: '♥', 'h', 'H', 'hearts', 'heart'>), ('SPADES', <Suit.SPADES: '♠', 's', 'S', 'spades', 'spade'>), ('S', <Suit.S: '♠', 's', 'S', 'spades', 'spade'>)]))"
      ]
     },
     "execution_count": 14,
     "metadata": {},
     "output_type": "execute_result"
    }
   ],
   "source": [
    "Suit.__members__"
   ]
  },
  {
   "cell_type": "code",
   "execution_count": 15,
   "metadata": {
    "collapsed": false
   },
   "outputs": [
    {
     "data": {
      "text/plain": [
       "['CLUBS', 'DIAMONDS', 'HEARTS', 'SPADES', 'S']"
      ]
     },
     "execution_count": 15,
     "metadata": {},
     "output_type": "execute_result"
    }
   ],
   "source": [
    "Suit._member_names_"
   ]
  },
  {
   "cell_type": "code",
   "execution_count": 16,
   "metadata": {
    "collapsed": false
   },
   "outputs": [
    {
     "data": {
      "text/plain": [
       "OrderedDict([('CLUBS', <Suit.CLUBS: '♣', 'c', 'C', 'clubs', 'club'>), ('DIAMONDS', <Suit.DIAMONDS: '♦', 'd', 'D', 'diamonds', 'diamond'>), ('HEARTS', <Suit.HEARTS: '♥', 'h', 'H', 'hearts', 'heart'>), ('SPADES', <Suit.SPADES: '♠', 's', 'S', 'spades', 'spade'>), ('S', <Suit.S: '♠', 's', 'S', 'spades', 'spade'>)])"
      ]
     },
     "execution_count": 16,
     "metadata": {},
     "output_type": "execute_result"
    }
   ],
   "source": [
    "Suit._member_map_"
   ]
  },
  {
   "cell_type": "code",
   "execution_count": 17,
   "metadata": {
    "collapsed": false
   },
   "outputs": [
    {
     "data": {
      "text/plain": [
       "<Suit.S: '♠', 's', 'S', 'spades', 'spade'>"
      ]
     },
     "execution_count": 17,
     "metadata": {},
     "output_type": "execute_result"
    }
   ],
   "source": [
    "Suit('s')"
   ]
  },
  {
   "cell_type": "code",
   "execution_count": 18,
   "metadata": {
    "collapsed": false
   },
   "outputs": [
    {
     "name": "stdout",
     "output_type": "stream",
     "text": [
      "NEW: <enum 'MyBadMultiValueEnum'> (1, 'one')\n",
      "NEW: <enum 'MyBadMultiValueEnum'> (2,)\n"
     ]
    }
   ],
   "source": [
    "class MyBadMultiValueEnum(MultiValueEnum):\n",
    "    one = 1, 'one'\n",
    "    two = 2"
   ]
  },
  {
   "cell_type": "code",
   "execution_count": 19,
   "metadata": {
    "collapsed": false
   },
   "outputs": [
    {
     "data": {
      "text/plain": [
       "1"
      ]
     },
     "execution_count": 19,
     "metadata": {},
     "output_type": "execute_result"
    }
   ],
   "source": [
    "MyBadMultiValueEnum.one.value"
   ]
  },
  {
   "cell_type": "code",
   "execution_count": 1,
   "metadata": {
    "collapsed": false
   },
   "outputs": [
    {
     "ename": "TypeError",
     "evalue": "__new__() takes 2 positional arguments but 3 were given",
     "output_type": "error",
     "traceback": [
      "\u001b[0;31m---------------------------------------------------------------------------\u001b[0m\n\u001b[0;31mTypeError\u001b[0m                                 Traceback (most recent call last)",
      "\u001b[0;32m<ipython-input-1-a64048e97bbe>\u001b[0m in \u001b[0;36m<module>\u001b[0;34m()\u001b[0m\n\u001b[1;32m      1\u001b[0m \u001b[0;32mfrom\u001b[0m \u001b[0menum34_custom\u001b[0m \u001b[0;32mimport\u001b[0m \u001b[0mMultiValueEnum\u001b[0m\u001b[0;34m\u001b[0m\u001b[0m\n\u001b[1;32m      2\u001b[0m \u001b[0;34m\u001b[0m\u001b[0m\n\u001b[0;32m----> 3\u001b[0;31m \u001b[0;32mclass\u001b[0m \u001b[0mCol\u001b[0m\u001b[0;34m(\u001b[0m\u001b[0mMultiValueEnum\u001b[0m\u001b[0;34m)\u001b[0m\u001b[0;34m:\u001b[0m\u001b[0;34m\u001b[0m\u001b[0m\n\u001b[0m\u001b[1;32m      4\u001b[0m     \u001b[0ma\u001b[0m \u001b[0;34m=\u001b[0m \u001b[0;36m1\u001b[0m\u001b[0;34m,\u001b[0m \u001b[0;36m2\u001b[0m\u001b[0;34m\u001b[0m\u001b[0m\n\u001b[1;32m      5\u001b[0m     \u001b[0mb\u001b[0m \u001b[0;34m=\u001b[0m \u001b[0;36m2\u001b[0m\u001b[0;34m\u001b[0m\u001b[0m\n",
      "\u001b[0;32m/usr/local/Cellar/python3/3.4.1_1/Frameworks/Python.framework/Versions/3.4/lib/python3.4/enum.py\u001b[0m in \u001b[0;36m__new__\u001b[0;34m(metacls, cls, bases, classdict)\u001b[0m\n\u001b[1;32m    150\u001b[0m                     \u001b[0menum_member\u001b[0m\u001b[0;34m.\u001b[0m\u001b[0m_value_\u001b[0m \u001b[0;34m=\u001b[0m \u001b[0mvalue\u001b[0m\u001b[0;34m\u001b[0m\u001b[0m\n\u001b[1;32m    151\u001b[0m             \u001b[0;32melse\u001b[0m\u001b[0;34m:\u001b[0m\u001b[0;34m\u001b[0m\u001b[0m\n\u001b[0;32m--> 152\u001b[0;31m                 \u001b[0menum_member\u001b[0m \u001b[0;34m=\u001b[0m \u001b[0m__new__\u001b[0m\u001b[0;34m(\u001b[0m\u001b[0menum_class\u001b[0m\u001b[0;34m,\u001b[0m \u001b[0;34m*\u001b[0m\u001b[0margs\u001b[0m\u001b[0;34m)\u001b[0m\u001b[0;34m\u001b[0m\u001b[0m\n\u001b[0m\u001b[1;32m    153\u001b[0m                 \u001b[0;32mif\u001b[0m \u001b[0;32mnot\u001b[0m \u001b[0mhasattr\u001b[0m\u001b[0;34m(\u001b[0m\u001b[0menum_member\u001b[0m\u001b[0;34m,\u001b[0m \u001b[0;34m'_value_'\u001b[0m\u001b[0;34m)\u001b[0m\u001b[0;34m:\u001b[0m\u001b[0;34m\u001b[0m\u001b[0m\n\u001b[1;32m    154\u001b[0m                     \u001b[0menum_member\u001b[0m\u001b[0;34m.\u001b[0m\u001b[0m_value_\u001b[0m \u001b[0;34m=\u001b[0m \u001b[0mmember_type\u001b[0m\u001b[0;34m(\u001b[0m\u001b[0;34m*\u001b[0m\u001b[0margs\u001b[0m\u001b[0;34m)\u001b[0m\u001b[0;34m\u001b[0m\u001b[0m\n",
      "\u001b[0;31mTypeError\u001b[0m: __new__() takes 2 positional arguments but 3 were given"
     ]
    }
   ],
   "source": [
    "from enum34_custom import MultiValueEnum\n",
    "\n",
    "class Col(MultiValueEnum):\n",
    "    a = 1, 2\n",
    "    b = 2\n",
    "    c = 3, 4"
   ]
  },
  {
   "cell_type": "code",
   "execution_count": 2,
   "metadata": {
    "collapsed": false
   },
   "outputs": [
    {
     "name": "stdout",
     "output_type": "stream",
     "text": [
      "VALUES: Oneone\n"
     ]
    },
    {
     "ename": "TypeError",
     "evalue": "'Oneone', should be iterable, not <class 'str'>!",
     "output_type": "error",
     "traceback": [
      "\u001b[0;31m---------------------------------------------------------------------------\u001b[0m\n\u001b[0;31mTypeError\u001b[0m                                 Traceback (most recent call last)",
      "\u001b[0;32m<ipython-input-2-ed3a9cc388f1>\u001b[0m in \u001b[0;36m<module>\u001b[0;34m()\u001b[0m\n\u001b[0;32m----> 1\u001b[0;31m \u001b[0;32mclass\u001b[0m \u001b[0mStrValues\u001b[0m\u001b[0;34m(\u001b[0m\u001b[0mMultiValueEnum\u001b[0m\u001b[0;34m)\u001b[0m\u001b[0;34m:\u001b[0m\u001b[0;34m\u001b[0m\u001b[0m\n\u001b[0m\u001b[1;32m      2\u001b[0m     one = ('One'\n\u001b[1;32m      3\u001b[0m           'one')\n\u001b[1;32m      4\u001b[0m     two = ('two',\n\u001b[1;32m      5\u001b[0m           'Two')\n",
      "\u001b[0;32m/usr/local/Cellar/python3/3.4.1_1/Frameworks/Python.framework/Versions/3.4/lib/python3.4/enum.py\u001b[0m in \u001b[0;36m__new__\u001b[0;34m(metacls, cls, bases, classdict)\u001b[0m\n\u001b[1;32m    150\u001b[0m                     \u001b[0menum_member\u001b[0m\u001b[0;34m.\u001b[0m\u001b[0m_value_\u001b[0m \u001b[0;34m=\u001b[0m \u001b[0mvalue\u001b[0m\u001b[0;34m\u001b[0m\u001b[0m\n\u001b[1;32m    151\u001b[0m             \u001b[0;32melse\u001b[0m\u001b[0;34m:\u001b[0m\u001b[0;34m\u001b[0m\u001b[0m\n\u001b[0;32m--> 152\u001b[0;31m                 \u001b[0menum_member\u001b[0m \u001b[0;34m=\u001b[0m \u001b[0m__new__\u001b[0m\u001b[0;34m(\u001b[0m\u001b[0menum_class\u001b[0m\u001b[0;34m,\u001b[0m \u001b[0;34m*\u001b[0m\u001b[0margs\u001b[0m\u001b[0;34m)\u001b[0m\u001b[0;34m\u001b[0m\u001b[0m\n\u001b[0m\u001b[1;32m    153\u001b[0m                 \u001b[0;32mif\u001b[0m \u001b[0;32mnot\u001b[0m \u001b[0mhasattr\u001b[0m\u001b[0;34m(\u001b[0m\u001b[0menum_member\u001b[0m\u001b[0;34m,\u001b[0m \u001b[0;34m'_value_'\u001b[0m\u001b[0;34m)\u001b[0m\u001b[0;34m:\u001b[0m\u001b[0;34m\u001b[0m\u001b[0m\n\u001b[1;32m    154\u001b[0m                     \u001b[0menum_member\u001b[0m\u001b[0;34m.\u001b[0m\u001b[0m_value_\u001b[0m \u001b[0;34m=\u001b[0m \u001b[0mmember_type\u001b[0m\u001b[0;34m(\u001b[0m\u001b[0;34m*\u001b[0m\u001b[0margs\u001b[0m\u001b[0;34m)\u001b[0m\u001b[0;34m\u001b[0m\u001b[0m\n",
      "\u001b[0;32m/Users/walkman/Projects/enum34-custom/enum34_custom.py\u001b[0m in \u001b[0;36m__new__\u001b[0;34m(cls, values)\u001b[0m\n\u001b[1;32m     21\u001b[0m         \u001b[0;32mif\u001b[0m \u001b[0;32mnot\u001b[0m \u001b[0misinstance\u001b[0m\u001b[0;34m(\u001b[0m\u001b[0mvalues\u001b[0m\u001b[0;34m,\u001b[0m \u001b[0mIterable\u001b[0m\u001b[0;34m)\u001b[0m \u001b[0;32mor\u001b[0m \u001b[0mtype\u001b[0m\u001b[0;34m(\u001b[0m\u001b[0mvalues\u001b[0m\u001b[0;34m)\u001b[0m \u001b[0;34m==\u001b[0m \u001b[0mstr\u001b[0m\u001b[0;34m:\u001b[0m\u001b[0;34m\u001b[0m\u001b[0m\n\u001b[1;32m     22\u001b[0m             raise TypeError('{!r}, should be iterable, not {}!'\n\u001b[0;32m---> 23\u001b[0;31m                             \u001b[0;34m.\u001b[0m\u001b[0mformat\u001b[0m\u001b[0;34m(\u001b[0m\u001b[0mvalues\u001b[0m\u001b[0;34m,\u001b[0m \u001b[0mtype\u001b[0m\u001b[0;34m(\u001b[0m\u001b[0mvalues\u001b[0m\u001b[0;34m)\u001b[0m\u001b[0;34m)\u001b[0m\u001b[0;34m\u001b[0m\u001b[0m\n\u001b[0m\u001b[1;32m     24\u001b[0m             )\n\u001b[1;32m     25\u001b[0m         \u001b[0mobj\u001b[0m \u001b[0;34m=\u001b[0m \u001b[0mobject\u001b[0m\u001b[0;34m.\u001b[0m\u001b[0m__new__\u001b[0m\u001b[0;34m(\u001b[0m\u001b[0mcls\u001b[0m\u001b[0;34m)\u001b[0m\u001b[0;34m\u001b[0m\u001b[0m\n",
      "\u001b[0;31mTypeError\u001b[0m: 'Oneone', should be iterable, not <class 'str'>!"
     ]
    }
   ],
   "source": [
    "class StrValues(MultiValueEnum):\n",
    "    one = ('One'\n",
    "          'one')\n",
    "    two = ('two',\n",
    "          'Two')"
   ]
  },
  {
   "cell_type": "markdown",
   "metadata": {},
   "source": [
    "# Simple enum"
   ]
  },
  {
   "cell_type": "code",
   "execution_count": 1,
   "metadata": {
    "collapsed": false
   },
   "outputs": [
    {
     "ename": "NameError",
     "evalue": "name 'one' is not defined",
     "output_type": "error",
     "traceback": [
      "\u001b[0;31m---------------------------------------------------------------------------\u001b[0m\n\u001b[0;31mNameError\u001b[0m                                 Traceback (most recent call last)",
      "\u001b[0;32m<ipython-input-1-bd34bd49e9b7>\u001b[0m in \u001b[0;36m<module>\u001b[0;34m()\u001b[0m\n\u001b[1;32m      1\u001b[0m \u001b[0;32mfrom\u001b[0m \u001b[0menum\u001b[0m \u001b[0;32mimport\u001b[0m \u001b[0mEnum\u001b[0m\u001b[0;34m\u001b[0m\u001b[0m\n\u001b[1;32m      2\u001b[0m \u001b[0;34m\u001b[0m\u001b[0m\n\u001b[0;32m----> 3\u001b[0;31m \u001b[0;32mclass\u001b[0m \u001b[0mValNum\u001b[0m\u001b[0;34m(\u001b[0m\u001b[0mEnum\u001b[0m\u001b[0;34m)\u001b[0m\u001b[0;34m:\u001b[0m\u001b[0;34m\u001b[0m\u001b[0m\n\u001b[0m\u001b[1;32m      4\u001b[0m     \u001b[0mone\u001b[0m\u001b[0;34m\u001b[0m\u001b[0m\n\u001b[1;32m      5\u001b[0m     \u001b[0mtwo\u001b[0m\u001b[0;34m\u001b[0m\u001b[0m\n",
      "\u001b[0;32m<ipython-input-1-bd34bd49e9b7>\u001b[0m in \u001b[0;36mValNum\u001b[0;34m()\u001b[0m\n\u001b[1;32m      2\u001b[0m \u001b[0;34m\u001b[0m\u001b[0m\n\u001b[1;32m      3\u001b[0m \u001b[0;32mclass\u001b[0m \u001b[0mValNum\u001b[0m\u001b[0;34m(\u001b[0m\u001b[0mEnum\u001b[0m\u001b[0;34m)\u001b[0m\u001b[0;34m:\u001b[0m\u001b[0;34m\u001b[0m\u001b[0m\n\u001b[0;32m----> 4\u001b[0;31m     \u001b[0mone\u001b[0m\u001b[0;34m\u001b[0m\u001b[0m\n\u001b[0m\u001b[1;32m      5\u001b[0m     \u001b[0mtwo\u001b[0m\u001b[0;34m\u001b[0m\u001b[0m\n\u001b[1;32m      6\u001b[0m     \u001b[0mthree\u001b[0m\u001b[0;34m\u001b[0m\u001b[0m\n",
      "\u001b[0;31mNameError\u001b[0m: name 'one' is not defined"
     ]
    }
   ],
   "source": [
    "from enum import Enum\n",
    "\n",
    "class ValNum(Enum):\n",
    "    one\n",
    "    two\n",
    "    three"
   ]
  },
  {
   "cell_type": "code",
   "execution_count": 2,
   "metadata": {
    "collapsed": false
   },
   "outputs": [
    {
     "ename": "NameError",
     "evalue": "name 'one' is not defined",
     "output_type": "error",
     "traceback": [
      "\u001b[0;31m---------------------------------------------------------------------------\u001b[0m\n\u001b[0;31mNameError\u001b[0m                                 Traceback (most recent call last)",
      "\u001b[0;32m<ipython-input-2-727a8a63dfdb>\u001b[0m in \u001b[0;36m<module>\u001b[0;34m()\u001b[0m\n\u001b[1;32m      1\u001b[0m \u001b[0;32mfrom\u001b[0m \u001b[0mcollections\u001b[0m \u001b[0;32mimport\u001b[0m \u001b[0mnamedtuple\u001b[0m\u001b[0;34m\u001b[0m\u001b[0m\n\u001b[1;32m      2\u001b[0m \u001b[0;34m\u001b[0m\u001b[0m\n\u001b[0;32m----> 3\u001b[0;31m \u001b[0;32mclass\u001b[0m \u001b[0mValami\u001b[0m\u001b[0;34m(\u001b[0m\u001b[0mnamedtuple\u001b[0m\u001b[0;34m(\u001b[0m\u001b[0;34m'Enum'\u001b[0m\u001b[0;34m,\u001b[0m \u001b[0;34m'one, two'\u001b[0m\u001b[0;34m)\u001b[0m\u001b[0;34m)\u001b[0m\u001b[0;34m:\u001b[0m\u001b[0;34m\u001b[0m\u001b[0m\n\u001b[0m\u001b[1;32m      4\u001b[0m     \u001b[0mone\u001b[0m\u001b[0;34m\u001b[0m\u001b[0m\n\u001b[1;32m      5\u001b[0m     \u001b[0mtwo\u001b[0m\u001b[0;34m\u001b[0m\u001b[0m\n",
      "\u001b[0;32m<ipython-input-2-727a8a63dfdb>\u001b[0m in \u001b[0;36mValami\u001b[0;34m()\u001b[0m\n\u001b[1;32m      2\u001b[0m \u001b[0;34m\u001b[0m\u001b[0m\n\u001b[1;32m      3\u001b[0m \u001b[0;32mclass\u001b[0m \u001b[0mValami\u001b[0m\u001b[0;34m(\u001b[0m\u001b[0mnamedtuple\u001b[0m\u001b[0;34m(\u001b[0m\u001b[0;34m'Enum'\u001b[0m\u001b[0;34m,\u001b[0m \u001b[0;34m'one, two'\u001b[0m\u001b[0;34m)\u001b[0m\u001b[0;34m)\u001b[0m\u001b[0;34m:\u001b[0m\u001b[0;34m\u001b[0m\u001b[0m\n\u001b[0;32m----> 4\u001b[0;31m     \u001b[0mone\u001b[0m\u001b[0;34m\u001b[0m\u001b[0m\n\u001b[0m\u001b[1;32m      5\u001b[0m     \u001b[0mtwo\u001b[0m\u001b[0;34m\u001b[0m\u001b[0m\n",
      "\u001b[0;31mNameError\u001b[0m: name 'one' is not defined"
     ]
    }
   ],
   "source": [
    "from collections import namedtuple\n",
    "\n",
    "class Valami(namedtuple('Enum', 'one, two')):\n",
    "    one\n",
    "    two"
   ]
  },
  {
   "cell_type": "code",
   "execution_count": 6,
   "metadata": {
    "collapsed": false
   },
   "outputs": [
    {
     "ename": "NameError",
     "evalue": "name 'one' is not defined",
     "output_type": "error",
     "traceback": [
      "\u001b[0;31m---------------------------------------------------------------------------\u001b[0m\n\u001b[0;31mNameError\u001b[0m                                 Traceback (most recent call last)",
      "\u001b[0;32m<ipython-input-6-e35f07671000>\u001b[0m in \u001b[0;36m<module>\u001b[0;34m()\u001b[0m\n\u001b[1;32m      6\u001b[0m             \u001b[0;32mpass\u001b[0m\u001b[0;34m\u001b[0m\u001b[0m\n\u001b[1;32m      7\u001b[0m \u001b[0;34m\u001b[0m\u001b[0m\n\u001b[0;32m----> 8\u001b[0;31m \u001b[0;32mclass\u001b[0m \u001b[0mSinum\u001b[0m\u001b[0;34m(\u001b[0m\u001b[0mmetaclass\u001b[0m\u001b[0;34m=\u001b[0m\u001b[0mSimpleEnumMeta\u001b[0m\u001b[0;34m)\u001b[0m\u001b[0;34m:\u001b[0m\u001b[0;34m\u001b[0m\u001b[0m\n\u001b[0m\u001b[1;32m      9\u001b[0m     \u001b[0mone\u001b[0m\u001b[0;34m\u001b[0m\u001b[0m\n\u001b[1;32m     10\u001b[0m     \u001b[0mtwo\u001b[0m\u001b[0;34m\u001b[0m\u001b[0m\n",
      "\u001b[0;32m<ipython-input-6-e35f07671000>\u001b[0m in \u001b[0;36mSinum\u001b[0;34m()\u001b[0m\n\u001b[1;32m      7\u001b[0m \u001b[0;34m\u001b[0m\u001b[0m\n\u001b[1;32m      8\u001b[0m \u001b[0;32mclass\u001b[0m \u001b[0mSinum\u001b[0m\u001b[0;34m(\u001b[0m\u001b[0mmetaclass\u001b[0m\u001b[0;34m=\u001b[0m\u001b[0mSimpleEnumMeta\u001b[0m\u001b[0;34m)\u001b[0m\u001b[0;34m:\u001b[0m\u001b[0;34m\u001b[0m\u001b[0m\n\u001b[0;32m----> 9\u001b[0;31m     \u001b[0mone\u001b[0m\u001b[0;34m\u001b[0m\u001b[0m\n\u001b[0m\u001b[1;32m     10\u001b[0m     \u001b[0mtwo\u001b[0m\u001b[0;34m\u001b[0m\u001b[0m\n",
      "\u001b[0;31mNameError\u001b[0m: name 'one' is not defined"
     ]
    }
   ],
   "source": [
    "class SimpleEnumMeta(type):\n",
    "    def __new__(metacls, clsname, bases, classdict):\n",
    "        try:\n",
    "            super().__new__(clsname, bases, classdict)\n",
    "        except NameError:\n",
    "            pass\n",
    "\n",
    "class Sinum(metaclass=SimpleEnumMeta):\n",
    "    one\n",
    "    two"
   ]
  },
  {
   "cell_type": "code",
   "execution_count": 1,
   "metadata": {
    "collapsed": false
   },
   "outputs": [
    {
     "ename": "ImportError",
     "evalue": "No module named 'simplenum'",
     "output_type": "error",
     "traceback": [
      "\u001b[0;31m---------------------------------------------------------------------------\u001b[0m\n\u001b[0;31mImportError\u001b[0m                               Traceback (most recent call last)",
      "\u001b[0;32m<ipython-input-1-4e2d44e78aad>\u001b[0m in \u001b[0;36m<module>\u001b[0;34m()\u001b[0m\n\u001b[0;32m----> 1\u001b[0;31m \u001b[0;32mfrom\u001b[0m \u001b[0msimplenum\u001b[0m \u001b[0;32mimport\u001b[0m \u001b[0mEnum\u001b[0m\u001b[0;34m\u001b[0m\u001b[0m\n\u001b[0m\u001b[1;32m      2\u001b[0m \u001b[0;32mclass\u001b[0m \u001b[0mError\u001b[0m\u001b[0;34m(\u001b[0m\u001b[0mEnum\u001b[0m\u001b[0;34m,\u001b[0m \u001b[0mimplicit\u001b[0m\u001b[0;34m=\u001b[0m\u001b[0;32mFalse\u001b[0m\u001b[0;34m,\u001b[0m \u001b[0mvalues\u001b[0m\u001b[0;34m=\u001b[0m\u001b[0mfrom_one\u001b[0m\u001b[0;34m)\u001b[0m\u001b[0;34m:\u001b[0m\u001b[0;34m\u001b[0m\u001b[0m\n\u001b[1;32m      3\u001b[0m     \u001b[0;32mwith\u001b[0m \u001b[0mimplicit\u001b[0m\u001b[0;34m:\u001b[0m\u001b[0;34m\u001b[0m\u001b[0m\n\u001b[1;32m      4\u001b[0m         \u001b[0mone\u001b[0m\u001b[0;34m\u001b[0m\u001b[0m\n\u001b[1;32m      5\u001b[0m     \u001b[0manother_one\u001b[0m \u001b[0;34m=\u001b[0m \u001b[0;36m1\u001b[0m\u001b[0;34m\u001b[0m\u001b[0m\n",
      "\u001b[0;31mImportError\u001b[0m: No module named 'simplenum'"
     ]
    }
   ],
   "source": [
    "from simplenum import Enum\n",
    ">>> class Error(Enum, implicit=False, values=from_one):\n",
    "...     with implicit:\n",
    "...         one\n",
    "...     another_one = 1"
   ]
  },
  {
   "cell_type": "code",
   "execution_count": 5,
   "metadata": {
    "collapsed": false
   },
   "outputs": [
    {
     "name": "stdout",
     "output_type": "stream",
     "text": [
      "RUN BEFORE\n",
      "RUN AFTER: {'_OrderedDict__hardroot': <collections._Link object at 0x109a87870>, '_OrderedDict__map': {}, 'implicit': False, 'always_implicit': False, 'values': <function names.<locals>.value at 0x109a981e0>, '_OrderedDict__root': <weakproxy at 0x108872688 to _Link at 0x109a87870>}\n"
     ]
    },
    {
     "ename": "NameError",
     "evalue": "name 'one' is not defined",
     "output_type": "error",
     "traceback": [
      "\u001b[0;31m---------------------------------------------------------------------------\u001b[0m\n\u001b[0;31mNameError\u001b[0m                                 Traceback (most recent call last)",
      "\u001b[0;32m<ipython-input-5-e1701cdffa88>\u001b[0m in \u001b[0;36m<module>\u001b[0;34m()\u001b[0m\n\u001b[1;32m    109\u001b[0m     \u001b[0;32mdef\u001b[0m \u001b[0m__contains__\u001b[0m\u001b[0;34m(\u001b[0m\u001b[0mcls\u001b[0m\u001b[0;34m,\u001b[0m \u001b[0mname\u001b[0m\u001b[0;34m)\u001b[0m\u001b[0;34m:\u001b[0m \u001b[0;32mreturn\u001b[0m \u001b[0mname\u001b[0m \u001b[0;32min\u001b[0m \u001b[0mcls\u001b[0m\u001b[0;34m.\u001b[0m\u001b[0m_enums_by_name\u001b[0m \u001b[0;31m# aliases\u001b[0m\u001b[0;34m\u001b[0m\u001b[0m\n\u001b[1;32m    110\u001b[0m \u001b[0;34m\u001b[0m\u001b[0m\n\u001b[0;32m--> 111\u001b[0;31m \u001b[0;32mclass\u001b[0m \u001b[0mSinum\u001b[0m\u001b[0;34m(\u001b[0m\u001b[0mmetaclass\u001b[0m\u001b[0;34m=\u001b[0m\u001b[0mSimpleEnumMeta\u001b[0m\u001b[0;34m)\u001b[0m\u001b[0;34m:\u001b[0m\u001b[0;34m\u001b[0m\u001b[0m\n\u001b[0m\u001b[1;32m    112\u001b[0m     \u001b[0mone\u001b[0m\u001b[0;34m\u001b[0m\u001b[0m\n\u001b[1;32m    113\u001b[0m     \u001b[0mtwo\u001b[0m\u001b[0;34m\u001b[0m\u001b[0m\n",
      "\u001b[0;32m<ipython-input-5-e1701cdffa88>\u001b[0m in \u001b[0;36mSinum\u001b[0;34m()\u001b[0m\n\u001b[1;32m    110\u001b[0m \u001b[0;34m\u001b[0m\u001b[0m\n\u001b[1;32m    111\u001b[0m \u001b[0;32mclass\u001b[0m \u001b[0mSinum\u001b[0m\u001b[0;34m(\u001b[0m\u001b[0mmetaclass\u001b[0m\u001b[0;34m=\u001b[0m\u001b[0mSimpleEnumMeta\u001b[0m\u001b[0;34m)\u001b[0m\u001b[0;34m:\u001b[0m\u001b[0;34m\u001b[0m\u001b[0m\n\u001b[0;32m--> 112\u001b[0;31m     \u001b[0mone\u001b[0m\u001b[0;34m\u001b[0m\u001b[0m\n\u001b[0m\u001b[1;32m    113\u001b[0m     \u001b[0mtwo\u001b[0m\u001b[0;34m\u001b[0m\u001b[0m\n",
      "\u001b[0;31mNameError\u001b[0m: name 'one' is not defined"
     ]
    }
   ],
   "source": [
    "from collections import OrderedDict\n",
    "\n",
    "def names():\n",
    "    '''Provide a value for each enum which is the name itself.'''\n",
    "    def value(name):\n",
    "        return name\n",
    "    return value\n",
    "\n",
    "\n",
    "class ClassDict(OrderedDict):\n",
    "    '''\n",
    "    This is the dictionary used while creating Enum instances.  It provides\n",
    "    default values when `implicit` is true.  This can either be enabled by\n",
    "    default, or within a `with` context.\n",
    "    '''\n",
    "\n",
    "    def __init__(self, implicit=False, values=names):\n",
    "        '''Setting `implicit` will provide default values from `values`.'''\n",
    "        super().__init__()\n",
    "        self.implicit = implicit\n",
    "        self.always_implicit = implicit\n",
    "        self.values = values()\n",
    "\n",
    "    def __enter__(self):\n",
    "        '''Enable implicit values within a `with` context.'''\n",
    "        self.implicit = True\n",
    "\n",
    "    def __exit__(self, exc_type, exc_val, exc_tb):\n",
    "        '''Disable implicit values on leaving a `with` context.'''\n",
    "        self.implicit = False\n",
    "        if exc_val: raise ExplicitError(ERR_MSG) from exc_val\n",
    "\n",
    "    def __getitem__(self, name):\n",
    "        '''Provide an item from the dictionary.  Values are created if\n",
    "        `implicit` is currently true.'''\n",
    "        if name not in self:\n",
    "            if self.implicit and Enum and not dunder(name):\n",
    "                super().__setitem__(name, self.values(name))\n",
    "                if self.always_implicit: return Explode()\n",
    "            elif name == 'implicit':\n",
    "                return self\n",
    "        return super().__getitem__(name)\n",
    "\n",
    "    def __setitem__(self, name, value):\n",
    "        '''Set a value in the dictionary.  Setting is disabled for user\n",
    "        values (not dunders) if `implicit` is true.  This helps avoid\n",
    "        confusion from expressions involving shadowed global names.'''\n",
    "        if self.implicit and Enum and not dunder(name):\n",
    "            raise ExplicitError('Cannot use explicit value for %s' % name)\n",
    "        return super().__setitem__(name, value)\n",
    "\n",
    "    def split(self):\n",
    "        '''Separate the enums from the special values (dunders and\n",
    "        descriptors; we assume the latter are methods).'''\n",
    "        enums, others = OrderedDict(), dict()\n",
    "        for name in self:\n",
    "            value = self[name]\n",
    "            if dunder(name) or hasattr(value, '__get__'):\n",
    "                others[name] = value\n",
    "            else:\n",
    "                enums[name] = value\n",
    "        return enums, others\n",
    "\n",
    "\n",
    "class SimpleEnumMeta(type):\n",
    "    @classmethod\n",
    "    def __prepare__(metacls, name, bases, values=names):\n",
    "        '''Provide the class dictionary (which provides implicit values).'''\n",
    "        print('RUN BEFORE')\n",
    "        d = ClassDict(values=values)\n",
    "        print('RUN AFTER:', vars(d))\n",
    "        return d\n",
    "\n",
    "    def __init__(metacls, cls, bases, dict, **kargs):\n",
    "        '''Called during class construction.  Drop kargs.'''\n",
    "        super().__init__(cls, bases, dict)\n",
    "\n",
    "    def __new__(metacls, name, bases, prepared, allow_aliases=False, **kargs):\n",
    "        '''Create the class and then the named tuples, saving the latter in\n",
    "        the former.'''\n",
    "        enums, others = prepared.split()\n",
    "        cls = super().__new__(metacls, name, bases, others)\n",
    "        cls._enums_by_name, cls._enums_by_value = {}, OrderedDict()\n",
    "        for name in enums:\n",
    "            value = enums[name]\n",
    "            enum = cls.__new__(cls, name, value)\n",
    "            # handle aliases\n",
    "            if value in cls._enums_by_value:\n",
    "                if allow_aliases:\n",
    "                    cls._enums_by_name[name] = cls._enums_by_value[value]\n",
    "                else:\n",
    "                    raise ValueError('Duplicate value (%r) for %s and %s' %\n",
    "                                     (value, cls._enums_by_value[value].name, name))\n",
    "            else:\n",
    "                cls._enums_by_value[value] = enum\n",
    "                cls._enums_by_name[name] = enum\n",
    "        # build the delegate from values as that does not include aliases\n",
    "        cls._enums = MappingProxyType(\n",
    "                        OrderedDict((enum.name, enum.value)\n",
    "                                    for enum in cls._enums_by_value.values()))\n",
    "        return cls\n",
    "    \n",
    "    def __getitem__(cls, name): return cls._enums_by_name[name].value\n",
    "    \n",
    "    def __getattr__(cls, name):\n",
    "        '''Provide access to named tuples.'''\n",
    "        try: return cls._enums_by_name[name]\n",
    "        except KeyError: raise AttributeError(name)\n",
    "    def __contains__(cls, name): return name in cls._enums_by_name # aliases\n",
    "\n",
    "class Sinum(metaclass=SimpleEnumMeta):\n",
    "    one\n",
    "    two"
   ]
  },
  {
   "cell_type": "markdown",
   "metadata": {},
   "source": [
    "#  Testing class"
   ]
  },
  {
   "cell_type": "code",
   "execution_count": 68,
   "metadata": {
    "collapsed": false
   },
   "outputs": [],
   "source": [
    "from enum import Enum\n",
    "from enum34_custom import MultiValueEnum\n",
    "\n",
    "class _TournamentAction(Enum):\n",
    "    REG = 'Tournament Registration'\n",
    "    UNREG = 'Tournament Unregistration'\n",
    "    REBUY = 'Tournament Rebuy'\n",
    "    ADDON = 'Tournament Addon'\n",
    "    WIN = 'Tournament Won'\n",
    "\n",
    "\n",
    "class _TransferAction(MultiValueEnum):\n",
    "    TRANS_IN = 'Transfer Received (Admin)', 'Real Money Transfer Received'\n",
    "    TRANS_OUT = 'Transfer Sent', 'Real Money Transfer Sent'\n",
    "    CASHOUT = 'Cashout',\n",
    "    CASHOUT_CANCEL = 'Cashout Canceled',\n",
    "    DEPOSIT = 'Deposit (Player)',\n",
    "    # 'Buy Chips Bonus': ,\n",
    "    # 'Inter Account Transfer':\n",
    "    # 'Tournament Ticket Issued':\n",
    "    # 'Full Tilt Poker Transfer':\n",
    "\n",
    "\n",
    "class _CreditAction(Enum):\n",
    "    VIP_SET = 'VIP Status Set'\n",
    "    FPP_EARNED = 'FPP earned (Tournament)'\n",
    "    # FPP Store = 'VIP Bonus Purchased'\n",
    "    # FPP Store = 'Item Purchase (Multiple)'\n",
    "    # BOUNTY = 'Reward: Knockout Bounty'\n",
    "    # 'Tournament Ticket Issued':\n",
    "    # 'Buy In Refunded (Golden SnG)'\n",
    "\n",
    "class ActionType(MultiValueEnum):\n",
    "    TOUR = (ta.value for ta in _TournamentAction)\n",
    "    TRANSFER = (val for tup in _TransferAction for val in tup.value)\n",
    "    CREDIT = (ca.value for ca in _CreditAction)"
   ]
  },
  {
   "cell_type": "code",
   "execution_count": 67,
   "metadata": {
    "collapsed": false
   },
   "outputs": [
    {
     "data": {
      "text/plain": [
       "['Transfer Received (Admin)',\n",
       " 'Real Money Transfer Received',\n",
       " 'Transfer Sent',\n",
       " 'Real Money Transfer Sent',\n",
       " 'Cashout',\n",
       " 'Cashout Canceled',\n",
       " 'Deposit (Player)']"
      ]
     },
     "execution_count": 67,
     "metadata": {},
     "output_type": "execute_result"
    }
   ],
   "source": [
    "[one for ta in _TransferAction for one in ta.value]"
   ]
  },
  {
   "cell_type": "code",
   "execution_count": 69,
   "metadata": {
    "collapsed": false
   },
   "outputs": [
    {
     "data": {
      "text/plain": [
       "['Tournament Registration',\n",
       " 'Tournament Unregistration',\n",
       " 'Tournament Rebuy',\n",
       " 'Tournament Addon',\n",
       " 'Tournament Won']"
      ]
     },
     "execution_count": 69,
     "metadata": {},
     "output_type": "execute_result"
    }
   ],
   "source": [
    "list(t.value for t in _TournamentAction)"
   ]
  },
  {
   "cell_type": "code",
   "execution_count": 73,
   "metadata": {
    "collapsed": false
   },
   "outputs": [
    {
     "data": {
      "text/plain": [
       "True"
      ]
     },
     "execution_count": 73,
     "metadata": {},
     "output_type": "execute_result"
    }
   ],
   "source": [
    "ActionType('Tournament Won') is ActionType.TOUR"
   ]
  },
  {
   "cell_type": "code",
   "execution_count": 71,
   "metadata": {
    "collapsed": false
   },
   "outputs": [
    {
     "data": {
      "text/plain": [
       "<ActionType.TRANSFER: <generator object <genexpr> at 0x1055b5678>>"
      ]
     },
     "execution_count": 71,
     "metadata": {},
     "output_type": "execute_result"
    }
   ],
   "source": [
    "ActionType('Cashout')"
   ]
  },
  {
   "cell_type": "code",
   "execution_count": 72,
   "metadata": {
    "collapsed": false
   },
   "outputs": [
    {
     "data": {
      "text/plain": [
       "<ActionType.TOUR: <generator object <genexpr> at 0x1055b55a0>>"
      ]
     },
     "execution_count": 72,
     "metadata": {},
     "output_type": "execute_result"
    }
   ],
   "source": [
    "ActionType.TOUR"
   ]
  },
  {
   "cell_type": "code",
   "execution_count": 57,
   "metadata": {
    "collapsed": false
   },
   "outputs": [
    {
     "data": {
      "text/plain": [
       "[<ActionType.TOUR: <generator object <genexpr> at 0x105585120>>,\n",
       " <ActionType.TRANSFER: <generator object <genexpr> at 0x1055851b0>>,\n",
       " <ActionType.CREDIT: <generator object <genexpr> at 0x105585240>>]"
      ]
     },
     "execution_count": 57,
     "metadata": {},
     "output_type": "execute_result"
    }
   ],
   "source": [
    "list(ActionType)"
   ]
  },
  {
   "cell_type": "code",
   "execution_count": 58,
   "metadata": {
    "collapsed": false
   },
   "outputs": [
    {
     "data": {
      "text/plain": [
       "{('Transfer Sent',\n",
       "  'Real Money Transfer Sent'): <ActionType.TRANSFER: <generator object <genexpr> at 0x1055851b0>>,\n",
       " <generator object <genexpr> at 0x105585240>: <ActionType.CREDIT: <generator object <genexpr> at 0x105585240>>,\n",
       " 'Tournament Registration': <ActionType.TOUR: <generator object <genexpr> at 0x105585120>>,\n",
       " ('Cashout Canceled',): <ActionType.TRANSFER: <generator object <genexpr> at 0x1055851b0>>,\n",
       " ('Cashout',): <ActionType.TRANSFER: <generator object <genexpr> at 0x1055851b0>>,\n",
       " 'Tournament Addon': <ActionType.TOUR: <generator object <genexpr> at 0x105585120>>,\n",
       " ('Deposit (Player)',): <ActionType.TRANSFER: <generator object <genexpr> at 0x1055851b0>>,\n",
       " <generator object <genexpr> at 0x105585120>: <ActionType.TOUR: <generator object <genexpr> at 0x105585120>>,\n",
       " 'FPP earned (Tournament)': <ActionType.CREDIT: <generator object <genexpr> at 0x105585240>>,\n",
       " 'Tournament Rebuy': <ActionType.TOUR: <generator object <genexpr> at 0x105585120>>,\n",
       " ('Transfer Received (Admin)',\n",
       "  'Real Money Transfer Received'): <ActionType.TRANSFER: <generator object <genexpr> at 0x1055851b0>>,\n",
       " <generator object <genexpr> at 0x1055851b0>: <ActionType.TRANSFER: <generator object <genexpr> at 0x1055851b0>>,\n",
       " 'Tournament Won': <ActionType.TOUR: <generator object <genexpr> at 0x105585120>>,\n",
       " 'Tournament Unregistration': <ActionType.TOUR: <generator object <genexpr> at 0x105585120>>,\n",
       " 'VIP Status Set': <ActionType.CREDIT: <generator object <genexpr> at 0x105585240>>}"
      ]
     },
     "execution_count": 58,
     "metadata": {},
     "output_type": "execute_result"
    }
   ],
   "source": [
    "ActionType._value2member_map_"
   ]
  },
  {
   "cell_type": "code",
   "execution_count": 30,
   "metadata": {
    "collapsed": false
   },
   "outputs": [
    {
     "data": {
      "text/plain": [
       "'0.6.5'"
      ]
     },
     "execution_count": 30,
     "metadata": {},
     "output_type": "execute_result"
    }
   ],
   "source": [
    "from enum34_custom import __version__ as enumver\n",
    "enumver"
   ]
  },
  {
   "cell_type": "code",
   "execution_count": 78,
   "metadata": {
    "collapsed": false
   },
   "outputs": [
    {
     "name": "stdout",
     "output_type": "stream",
     "text": [
      "from builtins import property as _property, tuple as _tuple\n",
      "from operator import itemgetter as _itemgetter\n",
      "from collections import OrderedDict\n",
      "\n",
      "class _Tournament(tuple):\n",
      "    '_Tournament(date, action, players, game, currency, amount, vpp, fpp, tmoney, wmoney, balance, monthly_vpp, yearly_vpp, total_fpp, total_tmoney, total_wmoney, ident, name, speed, format, limit, type, buyin, rake)'\n",
      "\n",
      "    __slots__ = ()\n",
      "\n",
      "    _fields = ('date', 'action', 'players', 'game', 'currency', 'amount', 'vpp', 'fpp', 'tmoney', 'wmoney', 'balance', 'monthly_vpp', 'yearly_vpp', 'total_fpp', 'total_tmoney', 'total_wmoney', 'ident', 'name', 'speed', 'format', 'limit', 'type', 'buyin', 'rake')\n",
      "\n",
      "    def __new__(_cls, date, action, players, game, currency, amount, vpp, fpp, tmoney, wmoney, balance, monthly_vpp, yearly_vpp, total_fpp, total_tmoney, total_wmoney, ident, name, speed, format, limit, type, buyin, rake):\n",
      "        'Create new instance of _Tournament(date, action, players, game, currency, amount, vpp, fpp, tmoney, wmoney, balance, monthly_vpp, yearly_vpp, total_fpp, total_tmoney, total_wmoney, ident, name, speed, format, limit, type, buyin, rake)'\n",
      "        return _tuple.__new__(_cls, (date, action, players, game, currency, amount, vpp, fpp, tmoney, wmoney, balance, monthly_vpp, yearly_vpp, total_fpp, total_tmoney, total_wmoney, ident, name, speed, format, limit, type, buyin, rake))\n",
      "\n",
      "    @classmethod\n",
      "    def _make(cls, iterable, new=tuple.__new__, len=len):\n",
      "        'Make a new _Tournament object from a sequence or iterable'\n",
      "        result = new(cls, iterable)\n",
      "        if len(result) != 24:\n",
      "            raise TypeError('Expected 24 arguments, got %d' % len(result))\n",
      "        return result\n",
      "\n",
      "    def _replace(_self, **kwds):\n",
      "        'Return a new _Tournament object replacing specified fields with new values'\n",
      "        result = _self._make(map(kwds.pop, ('date', 'action', 'players', 'game', 'currency', 'amount', 'vpp', 'fpp', 'tmoney', 'wmoney', 'balance', 'monthly_vpp', 'yearly_vpp', 'total_fpp', 'total_tmoney', 'total_wmoney', 'ident', 'name', 'speed', 'format', 'limit', 'type', 'buyin', 'rake'), _self))\n",
      "        if kwds:\n",
      "            raise ValueError('Got unexpected field names: %r' % list(kwds))\n",
      "        return result\n",
      "\n",
      "    def __repr__(self):\n",
      "        'Return a nicely formatted representation string'\n",
      "        return self.__class__.__name__ + '(date=%r, action=%r, players=%r, game=%r, currency=%r, amount=%r, vpp=%r, fpp=%r, tmoney=%r, wmoney=%r, balance=%r, monthly_vpp=%r, yearly_vpp=%r, total_fpp=%r, total_tmoney=%r, total_wmoney=%r, ident=%r, name=%r, speed=%r, format=%r, limit=%r, type=%r, buyin=%r, rake=%r)' % self\n",
      "\n",
      "    @property\n",
      "    def __dict__(self):\n",
      "        'A new OrderedDict mapping field names to their values'\n",
      "        return OrderedDict(zip(self._fields, self))\n",
      "\n",
      "    def _asdict(self):\n",
      "        'Return a new OrderedDict which maps field names to their values.'\n",
      "        return self.__dict__\n",
      "\n",
      "    def __getnewargs__(self):\n",
      "        'Return self as a plain tuple.  Used by copy and pickle.'\n",
      "        return tuple(self)\n",
      "\n",
      "    def __getstate__(self):\n",
      "        'Exclude the OrderedDict from pickling'\n",
      "        return None\n",
      "\n",
      "    date = _property(_itemgetter(0), doc='Alias for field number 0')\n",
      "\n",
      "    action = _property(_itemgetter(1), doc='Alias for field number 1')\n",
      "\n",
      "    players = _property(_itemgetter(2), doc='Alias for field number 2')\n",
      "\n",
      "    game = _property(_itemgetter(3), doc='Alias for field number 3')\n",
      "\n",
      "    currency = _property(_itemgetter(4), doc='Alias for field number 4')\n",
      "\n",
      "    amount = _property(_itemgetter(5), doc='Alias for field number 5')\n",
      "\n",
      "    vpp = _property(_itemgetter(6), doc='Alias for field number 6')\n",
      "\n",
      "    fpp = _property(_itemgetter(7), doc='Alias for field number 7')\n",
      "\n",
      "    tmoney = _property(_itemgetter(8), doc='Alias for field number 8')\n",
      "\n",
      "    wmoney = _property(_itemgetter(9), doc='Alias for field number 9')\n",
      "\n",
      "    balance = _property(_itemgetter(10), doc='Alias for field number 10')\n",
      "\n",
      "    monthly_vpp = _property(_itemgetter(11), doc='Alias for field number 11')\n",
      "\n",
      "    yearly_vpp = _property(_itemgetter(12), doc='Alias for field number 12')\n",
      "\n",
      "    total_fpp = _property(_itemgetter(13), doc='Alias for field number 13')\n",
      "\n",
      "    total_tmoney = _property(_itemgetter(14), doc='Alias for field number 14')\n",
      "\n",
      "    total_wmoney = _property(_itemgetter(15), doc='Alias for field number 15')\n",
      "\n",
      "    ident = _property(_itemgetter(16), doc='Alias for field number 16')\n",
      "\n",
      "    name = _property(_itemgetter(17), doc='Alias for field number 17')\n",
      "\n",
      "    speed = _property(_itemgetter(18), doc='Alias for field number 18')\n",
      "\n",
      "    format = _property(_itemgetter(19), doc='Alias for field number 19')\n",
      "\n",
      "    limit = _property(_itemgetter(20), doc='Alias for field number 20')\n",
      "\n",
      "    type = _property(_itemgetter(21), doc='Alias for field number 21')\n",
      "\n",
      "    buyin = _property(_itemgetter(22), doc='Alias for field number 22')\n",
      "\n",
      "    rake = _property(_itemgetter(23), doc='Alias for field number 23')\n",
      "\n",
      "\n"
     ]
    }
   ],
   "source": [
    "from collections import namedtuple\n",
    "_Tournament = namedtuple('_Tournament',\n",
    "    'date '\n",
    "    'action '\n",
    "    'players '\n",
    "    'game '\n",
    "    'currency '\n",
    "\n",
    "    'amount '\n",
    "    'vpp '\n",
    "    'fpp '\n",
    "    'tmoney '\n",
    "    'wmoney '\n",
    "    'balance '\n",
    "    'monthly_vpp '\n",
    "    'yearly_vpp '\n",
    "    'total_fpp '\n",
    "    'total_tmoney '\n",
    "    'total_wmoney '\n",
    "\n",
    "    'ident '\n",
    "    'name '\n",
    "    'speed '\n",
    "    'format '\n",
    "    'limit '\n",
    "    'type '\n",
    "    'buyin '\n",
    "    'rake ',\n",
    "verbose=True\n",
    ")\n"
   ]
  },
  {
   "cell_type": "code",
   "execution_count": null,
   "metadata": {
    "collapsed": false
   },
   "outputs": [],
   "source": []
  }
 ],
 "metadata": {
  "kernelspec": {
   "display_name": "Python 2",
   "language": "python",
   "name": "python2"
  },
  "language_info": {
   "codemirror_mode": {
    "name": "ipython",
    "version": 2
   },
   "file_extension": ".py",
   "mimetype": "text/x-python",
   "name": "python",
   "nbconvert_exporter": "python",
   "pygments_lexer": "ipython2",
   "version": "2.7.10"
  }
 },
 "nbformat": 4,
 "nbformat_minor": 0
}
